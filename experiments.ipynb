{
 "cells": [
  {
   "cell_type": "code",
   "execution_count": null,
   "metadata": {},
   "outputs": [],
   "source": [
    "import pandas as pd\n",
    "from ehrmonize import EHRmonize"
   ]
  },
  {
   "cell_type": "code",
   "execution_count": null,
   "metadata": {},
   "outputs": [],
   "source": [
    "models = [\n",
    "    'gpt-3.5-turbo',\n",
    "    # 'gpt-4', -- works well though\n",
    "    'gpt-4o',\n",
    "    # 'meta.llama2-13b-chat-v1',\n",
    "    # 'meta.llama2-70b-chat-v1',\n",
    "    'meta.llama3-70b-instruct-v1:0',\n",
    "    'anthropic.claude-v2:1',\n",
    "    # 'anthropic.claude-instant-v1', -- works well though\n",
    "    # 'mistral.mistral-7b-instruct-v0:2',\n",
    "    'mistral.mixtral-8x7b-instruct-v0:1',\n",
    "]\n",
    "\n",
    "temperatures = [\n",
    "    0.0,\n",
    "    0.1,\n",
    "    0.2,\n",
    "    0.5\n",
    "]\n",
    "\n",
    "nshots = [\n",
    "    [],\n",
    "    [\"\"],\n",
    "    [\"\",\"\"],\n",
    "    [\"\",\"\",\"\",\"\",\"\"],\n",
    "    []\n",
    "]\n",
    "\n"
   ]
  }
 ],
 "metadata": {
  "language_info": {
   "name": "python"
  }
 },
 "nbformat": 4,
 "nbformat_minor": 2
}
