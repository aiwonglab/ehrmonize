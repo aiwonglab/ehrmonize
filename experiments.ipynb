{
 "cells": [
  {
   "cell_type": "code",
   "execution_count": 21,
   "metadata": {},
   "outputs": [],
   "source": [
    "import yaml\n",
    "import pandas as pd\n",
    "from ehrmonize import EHRmonize"
   ]
  },
  {
   "cell_type": "code",
   "execution_count": null,
   "metadata": {},
   "outputs": [],
   "source": [
    "def accuracy_score(y_true, y_pred):\n",
    "    return (y_true == y_pred).mean()"
   ]
  },
  {
   "cell_type": "code",
   "execution_count": null,
   "metadata": {},
   "outputs": [],
   "source": [
    "with open('experiments/configs/get_generic_name.yaml', 'r') as file:\n",
    "    for key, value in yaml.safe_load(file).items():\n",
    "        globals()[key] = value\n",
    "\n",
    "\n",
    "for db, path, drugn, gener in zip(source_db, source_csv, input_col_name, gt_col_name):\n",
    "    data = pd.read_csv(source_csv)\n",
    "    \n",
    "    # different engines\n",
    "    for m in model_id:\n",
    "        for t in temperature:\n",
    "            ehrm = EHRmonize(model_id=m, temperature=t)\n",
    "\n",
    "            # different prompting strategies\n",
    "            for n_s in number_of_shots:\n",
    "                for n_a in number_of_attempts:\n",
    "                    for a in agentic:\n",
    "                        ehrm.config(\n",
    "                            number_of_attempts=n_a,\n",
    "                            number_of_shots=n_s,\n",
    "                            agentic=a\n",
    "                        )\n",
    "\n",
    "                        ehrm.set_task(\n",
    "                            task='get_generic_name',\n",
    "                            possible_shots=possible_shots\n",
    "                        )\n",
    "\n",
    "                        preds = ehrm.predict(data[drugn])\n",
    "\n",
    "                        acc = ehrm.evaluate(data[gener], preds)\n",
    "\n"
   ]
  },
  {
   "cell_type": "code",
   "execution_count": 28,
   "metadata": {},
   "outputs": [
    {
     "data": {
      "text/plain": [
       "['gpt-3.5-turbo',\n",
       " 'gpt-4o',\n",
       " 'meta.llama3-70b-instruct-v1:0',\n",
       " 'anthropic.claude-v2:1',\n",
       " 'mistral.mixtral-8x7b-instruct-v0:1']"
      ]
     },
     "execution_count": 28,
     "metadata": {},
     "output_type": "execute_result"
    }
   ],
   "source": [
    "model_id"
   ]
  },
  {
   "cell_type": "code",
   "execution_count": 19,
   "metadata": {},
   "outputs": [
    {
     "data": {
      "text/plain": [
       "{'model_id': ['gpt-3.5-turbo',\n",
       "  'gpt-4o',\n",
       "  'meta.llama3-70b-instruct-v1:0',\n",
       "  'anthropic.claude-v2:1',\n",
       "  'mistral.mixtral-8x7b-instruct-v0:1'],\n",
       " 'temperature': [0, 0.1, 0.2, 0.5, 1]}"
      ]
     },
     "execution_count": 19,
     "metadata": {},
     "output_type": "execute_result"
    }
   ],
   "source": [
    "Engine"
   ]
  },
  {
   "cell_type": "code",
   "execution_count": 20,
   "metadata": {},
   "outputs": [
    {
     "data": {
      "text/plain": [
       "5"
      ]
     },
     "execution_count": 20,
     "metadata": {},
     "output_type": "execute_result"
    }
   ],
   "source": [
    "len(Engine['model_id'])"
   ]
  },
  {
   "cell_type": "code",
   "execution_count": null,
   "metadata": {
    "vscode": {
     "languageId": "c"
    }
   },
   "outputs": [],
   "source": [
    "ehrm = EHRmonize(model_id=Engine['model_id'][0], temperature=Engine['temperature'][0])"
   ]
  },
  {
   "cell_type": "code",
   "execution_count": 10,
   "metadata": {},
   "outputs": [],
   "source": [
    "function = getattr(ehrm, task_function)"
   ]
  },
  {
   "cell_type": "code",
   "execution_count": null,
   "metadata": {},
   "outputs": [],
   "source": [
    "function()"
   ]
  },
  {
   "cell_type": "code",
   "execution_count": null,
   "metadata": {},
   "outputs": [],
   "source": [
    "for m in model_id:\n",
    "    for t in temperature:\n",
    "        ehrm = EHRmonize(model_id=m, temperature=t)\n",
    "        function = getattr(ehrm, task_function)\n",
    "        function()"
   ]
  }
 ],
 "metadata": {
  "kernelspec": {
   "display_name": "ml",
   "language": "python",
   "name": "python3"
  },
  "language_info": {
   "codemirror_mode": {
    "name": "ipython",
    "version": 3
   },
   "file_extension": ".py",
   "mimetype": "text/x-python",
   "name": "python",
   "nbconvert_exporter": "python",
   "pygments_lexer": "ipython3",
   "version": "3.12.2"
  }
 },
 "nbformat": 4,
 "nbformat_minor": 2
}
