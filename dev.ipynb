{
 "cells": [
  {
   "cell_type": "code",
   "execution_count": 1,
   "metadata": {},
   "outputs": [],
   "source": [
    "from ehrmonize import EHRmonize\n",
    "import pandas as pd\n",
    "from sklearn.metrics import accuracy_score, recall_score, precision_score, f1_score"
   ]
  },
  {
   "cell_type": "code",
   "execution_count": 2,
   "metadata": {},
   "outputs": [],
   "source": [
    "models = [\n",
    "    # 'gpt-3.5-turbo',\n",
    "    # 'gpt-4',\n",
    "    # 'gpt-4o',\n",
    "    # 'meta.llama2-13b-chat-v1',\n",
    "    # 'meta.llama2-70b-chat-v1',\n",
    "    # 'meta.llama3-70b-instruct-v1:0',\n",
    "    # 'anthropic.claude-v2:1',\n",
    "    # 'anthropic.claude-instant-v1',\n",
    "    # 'mistral.mistral-7b-instruct-v0:2',\n",
    "    # 'mistral.mixtral-8x7b-instruct-v0:1',\n",
    "    'anthropic.claude-3-sonnet-20240229-v1:0'\n",
    "]"
   ]
  },
  {
   "cell_type": "code",
   "execution_count": 3,
   "metadata": {},
   "outputs": [
    {
     "ename": "ValueError",
     "evalue": "model_id not supported. Please make sure you are using the correct model_id. We currently support:                              gpt-3.5-turbo, gpt-4, gpt-4o,                             meta.llama2-13b-chat-v1, meta.llama2-70b-chat-v1, meta.llama3-70b-instruct-v1:0                             anthropic.claude-v2:1, anthropic.claude-instant-v1,                             mistral.mistral-7b-instruct-v0:2, mistral.mixtral-8x7b-instruct-v0:1",
     "output_type": "error",
     "traceback": [
      "\u001b[0;31m---------------------------------------------------------------------------\u001b[0m",
      "\u001b[0;31mValueError\u001b[0m                                Traceback (most recent call last)",
      "Cell \u001b[0;32mIn[3], line 15\u001b[0m\n\u001b[1;32m      4\u001b[0m ehrm\u001b[38;5;241m.\u001b[39mconfig_prompting(\n\u001b[1;32m      5\u001b[0m       n_attempts\u001b[38;5;241m=\u001b[39m\u001b[38;5;241m2\u001b[39m,\n\u001b[1;32m      6\u001b[0m       agentic\u001b[38;5;241m=\u001b[39m\u001b[38;5;28;01mFalse\u001b[39;00m,\n\u001b[1;32m      7\u001b[0m       n_shots\u001b[38;5;241m=\u001b[39m\u001b[38;5;241m0\u001b[39m,\n\u001b[1;32m      8\u001b[0m )\n\u001b[1;32m     10\u001b[0m ehrm\u001b[38;5;241m.\u001b[39mset_task(\n\u001b[1;32m     11\u001b[0m       task\u001b[38;5;241m=\u001b[39m\u001b[38;5;124m'\u001b[39m\u001b[38;5;124mone_hot_drug_classification\u001b[39m\u001b[38;5;124m'\u001b[39m,\n\u001b[1;32m     12\u001b[0m       classif\u001b[38;5;241m=\u001b[39m\u001b[38;5;124m'\u001b[39m\u001b[38;5;124mantibiotic\u001b[39m\u001b[38;5;124m'\u001b[39m\n\u001b[1;32m     13\u001b[0m )\n\u001b[0;32m---> 15\u001b[0m pred \u001b[38;5;241m=\u001b[39m ehrm\u001b[38;5;241m.\u001b[39mpredict(\n\u001b[1;32m     16\u001b[0m       pd\u001b[38;5;241m.\u001b[39mDataFrame({\n\u001b[1;32m     17\u001b[0m       \u001b[38;5;124m'\u001b[39m\u001b[38;5;124mdrug\u001b[39m\u001b[38;5;124m'\u001b[39m: [\u001b[38;5;124m'\u001b[39m\u001b[38;5;124mativan\u001b[39m\u001b[38;5;124m'\u001b[39m,\u001b[38;5;124m'\u001b[39m\u001b[38;5;124mvancocin\u001b[39m\u001b[38;5;124m'\u001b[39m],\n\u001b[1;32m     18\u001b[0m       \u001b[38;5;124m'\u001b[39m\u001b[38;5;124mroute\u001b[39m\u001b[38;5;124m'\u001b[39m: [\u001b[38;5;124m'\u001b[39m\u001b[38;5;124mintravenous\u001b[39m\u001b[38;5;124m'\u001b[39m,\u001b[38;5;124m'\u001b[39m\u001b[38;5;124moral\u001b[39m\u001b[38;5;124m'\u001b[39m]\n\u001b[1;32m     19\u001b[0m   })\n\u001b[1;32m     20\u001b[0m )[\u001b[38;5;124m'\u001b[39m\u001b[38;5;124mpred\u001b[39m\u001b[38;5;124m'\u001b[39m]\n\u001b[1;32m     22\u001b[0m acc \u001b[38;5;241m=\u001b[39m accuracy_score(\n\u001b[1;32m     23\u001b[0m       pd\u001b[38;5;241m.\u001b[39mSeries([\u001b[38;5;124m\"\u001b[39m\u001b[38;5;124m0\u001b[39m\u001b[38;5;124m\"\u001b[39m,\u001b[38;5;124m\"\u001b[39m\u001b[38;5;124m1\u001b[39m\u001b[38;5;124m\"\u001b[39m]),\n\u001b[1;32m     24\u001b[0m       pred\n\u001b[1;32m     25\u001b[0m )\n\u001b[1;32m     27\u001b[0m \u001b[38;5;28mprint\u001b[39m(pred)\n",
      "File \u001b[0;32m~/Documents/ehrmonize/ehrmonize/ehrmonize.py:571\u001b[0m, in \u001b[0;36mEHRmonize.predict\u001b[0;34m(self, input)\u001b[0m\n\u001b[1;32m    568\u001b[0m \u001b[38;5;28;01mif\u001b[39;00m \u001b[38;5;129;01mnot\u001b[39;00m \u001b[38;5;28misinstance\u001b[39m(\u001b[38;5;28minput\u001b[39m, pd\u001b[38;5;241m.\u001b[39mDataFrame):\n\u001b[1;32m    569\u001b[0m     \u001b[38;5;28;01mraise\u001b[39;00m \u001b[38;5;167;01mValueError\u001b[39;00m(\u001b[38;5;124m'\u001b[39m\u001b[38;5;124minput must be a pandas DataFrame\u001b[39m\u001b[38;5;124m'\u001b[39m)\n\u001b[0;32m--> 571\u001b[0m res \u001b[38;5;241m=\u001b[39m \u001b[38;5;28minput\u001b[39m\u001b[38;5;241m.\u001b[39mapply(\n\u001b[1;32m    572\u001b[0m     \u001b[38;5;28;01mlambda\u001b[39;00m row: \u001b[38;5;28mself\u001b[39m\u001b[38;5;241m.\u001b[39mone_hot_drug_classification(\n\u001b[1;32m    573\u001b[0m         drugname\u001b[38;5;241m=\u001b[39mrow\u001b[38;5;241m.\u001b[39miloc[\u001b[38;5;241m0\u001b[39m],\n\u001b[1;32m    574\u001b[0m         route\u001b[38;5;241m=\u001b[39mrow\u001b[38;5;241m.\u001b[39miloc[\u001b[38;5;241m1\u001b[39m],\n\u001b[1;32m    575\u001b[0m         classif\u001b[38;5;241m=\u001b[39m\u001b[38;5;28mself\u001b[39m\u001b[38;5;241m.\u001b[39mkwargs\u001b[38;5;241m.\u001b[39mget(\u001b[38;5;124m'\u001b[39m\u001b[38;5;124mclassif\u001b[39m\u001b[38;5;124m'\u001b[39m),\n\u001b[1;32m    576\u001b[0m         expanded_classif\u001b[38;5;241m=\u001b[39m\u001b[38;5;28mself\u001b[39m\u001b[38;5;241m.\u001b[39mkwargs\u001b[38;5;241m.\u001b[39mget(\u001b[38;5;124m'\u001b[39m\u001b[38;5;124mexpanded_classif\u001b[39m\u001b[38;5;124m'\u001b[39m),\n\u001b[1;32m    577\u001b[0m         possible_shots\u001b[38;5;241m=\u001b[39m\u001b[38;5;28mself\u001b[39m\u001b[38;5;241m.\u001b[39mkwargs\u001b[38;5;241m.\u001b[39mget(\u001b[38;5;124m'\u001b[39m\u001b[38;5;124mpossible_shots\u001b[39m\u001b[38;5;124m'\u001b[39m),\n\u001b[1;32m    578\u001b[0m     ),\n\u001b[1;32m    579\u001b[0m     axis\u001b[38;5;241m=\u001b[39m\u001b[38;5;241m1\u001b[39m\n\u001b[1;32m    580\u001b[0m )\n\u001b[1;32m    582\u001b[0m \u001b[38;5;28;01mif\u001b[39;00m \u001b[38;5;28mself\u001b[39m\u001b[38;5;241m.\u001b[39mn_attempts \u001b[38;5;241m==\u001b[39m \u001b[38;5;241m1\u001b[39m:\n\u001b[1;32m    583\u001b[0m     \u001b[38;5;28;01mreturn\u001b[39;00m res\n",
      "File \u001b[0;32m/opt/anaconda3/envs/ml/lib/python3.12/site-packages/pandas/core/frame.py:10374\u001b[0m, in \u001b[0;36mDataFrame.apply\u001b[0;34m(self, func, axis, raw, result_type, args, by_row, engine, engine_kwargs, **kwargs)\u001b[0m\n\u001b[1;32m  10360\u001b[0m \u001b[38;5;28;01mfrom\u001b[39;00m \u001b[38;5;21;01mpandas\u001b[39;00m\u001b[38;5;21;01m.\u001b[39;00m\u001b[38;5;21;01mcore\u001b[39;00m\u001b[38;5;21;01m.\u001b[39;00m\u001b[38;5;21;01mapply\u001b[39;00m \u001b[38;5;28;01mimport\u001b[39;00m frame_apply\n\u001b[1;32m  10362\u001b[0m op \u001b[38;5;241m=\u001b[39m frame_apply(\n\u001b[1;32m  10363\u001b[0m     \u001b[38;5;28mself\u001b[39m,\n\u001b[1;32m  10364\u001b[0m     func\u001b[38;5;241m=\u001b[39mfunc,\n\u001b[0;32m   (...)\u001b[0m\n\u001b[1;32m  10372\u001b[0m     kwargs\u001b[38;5;241m=\u001b[39mkwargs,\n\u001b[1;32m  10373\u001b[0m )\n\u001b[0;32m> 10374\u001b[0m \u001b[38;5;28;01mreturn\u001b[39;00m op\u001b[38;5;241m.\u001b[39mapply()\u001b[38;5;241m.\u001b[39m__finalize__(\u001b[38;5;28mself\u001b[39m, method\u001b[38;5;241m=\u001b[39m\u001b[38;5;124m\"\u001b[39m\u001b[38;5;124mapply\u001b[39m\u001b[38;5;124m\"\u001b[39m)\n",
      "File \u001b[0;32m/opt/anaconda3/envs/ml/lib/python3.12/site-packages/pandas/core/apply.py:916\u001b[0m, in \u001b[0;36mFrameApply.apply\u001b[0;34m(self)\u001b[0m\n\u001b[1;32m    913\u001b[0m \u001b[38;5;28;01melif\u001b[39;00m \u001b[38;5;28mself\u001b[39m\u001b[38;5;241m.\u001b[39mraw:\n\u001b[1;32m    914\u001b[0m     \u001b[38;5;28;01mreturn\u001b[39;00m \u001b[38;5;28mself\u001b[39m\u001b[38;5;241m.\u001b[39mapply_raw(engine\u001b[38;5;241m=\u001b[39m\u001b[38;5;28mself\u001b[39m\u001b[38;5;241m.\u001b[39mengine, engine_kwargs\u001b[38;5;241m=\u001b[39m\u001b[38;5;28mself\u001b[39m\u001b[38;5;241m.\u001b[39mengine_kwargs)\n\u001b[0;32m--> 916\u001b[0m \u001b[38;5;28;01mreturn\u001b[39;00m \u001b[38;5;28mself\u001b[39m\u001b[38;5;241m.\u001b[39mapply_standard()\n",
      "File \u001b[0;32m/opt/anaconda3/envs/ml/lib/python3.12/site-packages/pandas/core/apply.py:1063\u001b[0m, in \u001b[0;36mFrameApply.apply_standard\u001b[0;34m(self)\u001b[0m\n\u001b[1;32m   1061\u001b[0m \u001b[38;5;28;01mdef\u001b[39;00m \u001b[38;5;21mapply_standard\u001b[39m(\u001b[38;5;28mself\u001b[39m):\n\u001b[1;32m   1062\u001b[0m     \u001b[38;5;28;01mif\u001b[39;00m \u001b[38;5;28mself\u001b[39m\u001b[38;5;241m.\u001b[39mengine \u001b[38;5;241m==\u001b[39m \u001b[38;5;124m\"\u001b[39m\u001b[38;5;124mpython\u001b[39m\u001b[38;5;124m\"\u001b[39m:\n\u001b[0;32m-> 1063\u001b[0m         results, res_index \u001b[38;5;241m=\u001b[39m \u001b[38;5;28mself\u001b[39m\u001b[38;5;241m.\u001b[39mapply_series_generator()\n\u001b[1;32m   1064\u001b[0m     \u001b[38;5;28;01melse\u001b[39;00m:\n\u001b[1;32m   1065\u001b[0m         results, res_index \u001b[38;5;241m=\u001b[39m \u001b[38;5;28mself\u001b[39m\u001b[38;5;241m.\u001b[39mapply_series_numba()\n",
      "File \u001b[0;32m/opt/anaconda3/envs/ml/lib/python3.12/site-packages/pandas/core/apply.py:1081\u001b[0m, in \u001b[0;36mFrameApply.apply_series_generator\u001b[0;34m(self)\u001b[0m\n\u001b[1;32m   1078\u001b[0m \u001b[38;5;28;01mwith\u001b[39;00m option_context(\u001b[38;5;124m\"\u001b[39m\u001b[38;5;124mmode.chained_assignment\u001b[39m\u001b[38;5;124m\"\u001b[39m, \u001b[38;5;28;01mNone\u001b[39;00m):\n\u001b[1;32m   1079\u001b[0m     \u001b[38;5;28;01mfor\u001b[39;00m i, v \u001b[38;5;129;01min\u001b[39;00m \u001b[38;5;28menumerate\u001b[39m(series_gen):\n\u001b[1;32m   1080\u001b[0m         \u001b[38;5;66;03m# ignore SettingWithCopy here in case the user mutates\u001b[39;00m\n\u001b[0;32m-> 1081\u001b[0m         results[i] \u001b[38;5;241m=\u001b[39m \u001b[38;5;28mself\u001b[39m\u001b[38;5;241m.\u001b[39mfunc(v, \u001b[38;5;241m*\u001b[39m\u001b[38;5;28mself\u001b[39m\u001b[38;5;241m.\u001b[39margs, \u001b[38;5;241m*\u001b[39m\u001b[38;5;241m*\u001b[39m\u001b[38;5;28mself\u001b[39m\u001b[38;5;241m.\u001b[39mkwargs)\n\u001b[1;32m   1082\u001b[0m         \u001b[38;5;28;01mif\u001b[39;00m \u001b[38;5;28misinstance\u001b[39m(results[i], ABCSeries):\n\u001b[1;32m   1083\u001b[0m             \u001b[38;5;66;03m# If we have a view on v, we need to make a copy because\u001b[39;00m\n\u001b[1;32m   1084\u001b[0m             \u001b[38;5;66;03m#  series_generator will swap out the underlying data\u001b[39;00m\n\u001b[1;32m   1085\u001b[0m             results[i] \u001b[38;5;241m=\u001b[39m results[i]\u001b[38;5;241m.\u001b[39mcopy(deep\u001b[38;5;241m=\u001b[39m\u001b[38;5;28;01mFalse\u001b[39;00m)\n",
      "File \u001b[0;32m~/Documents/ehrmonize/ehrmonize/ehrmonize.py:572\u001b[0m, in \u001b[0;36mEHRmonize.predict.<locals>.<lambda>\u001b[0;34m(row)\u001b[0m\n\u001b[1;32m    568\u001b[0m \u001b[38;5;28;01mif\u001b[39;00m \u001b[38;5;129;01mnot\u001b[39;00m \u001b[38;5;28misinstance\u001b[39m(\u001b[38;5;28minput\u001b[39m, pd\u001b[38;5;241m.\u001b[39mDataFrame):\n\u001b[1;32m    569\u001b[0m     \u001b[38;5;28;01mraise\u001b[39;00m \u001b[38;5;167;01mValueError\u001b[39;00m(\u001b[38;5;124m'\u001b[39m\u001b[38;5;124minput must be a pandas DataFrame\u001b[39m\u001b[38;5;124m'\u001b[39m)\n\u001b[1;32m    571\u001b[0m res \u001b[38;5;241m=\u001b[39m \u001b[38;5;28minput\u001b[39m\u001b[38;5;241m.\u001b[39mapply(\n\u001b[0;32m--> 572\u001b[0m     \u001b[38;5;28;01mlambda\u001b[39;00m row: \u001b[38;5;28mself\u001b[39m\u001b[38;5;241m.\u001b[39mone_hot_drug_classification(\n\u001b[1;32m    573\u001b[0m         drugname\u001b[38;5;241m=\u001b[39mrow\u001b[38;5;241m.\u001b[39miloc[\u001b[38;5;241m0\u001b[39m],\n\u001b[1;32m    574\u001b[0m         route\u001b[38;5;241m=\u001b[39mrow\u001b[38;5;241m.\u001b[39miloc[\u001b[38;5;241m1\u001b[39m],\n\u001b[1;32m    575\u001b[0m         classif\u001b[38;5;241m=\u001b[39m\u001b[38;5;28mself\u001b[39m\u001b[38;5;241m.\u001b[39mkwargs\u001b[38;5;241m.\u001b[39mget(\u001b[38;5;124m'\u001b[39m\u001b[38;5;124mclassif\u001b[39m\u001b[38;5;124m'\u001b[39m),\n\u001b[1;32m    576\u001b[0m         expanded_classif\u001b[38;5;241m=\u001b[39m\u001b[38;5;28mself\u001b[39m\u001b[38;5;241m.\u001b[39mkwargs\u001b[38;5;241m.\u001b[39mget(\u001b[38;5;124m'\u001b[39m\u001b[38;5;124mexpanded_classif\u001b[39m\u001b[38;5;124m'\u001b[39m),\n\u001b[1;32m    577\u001b[0m         possible_shots\u001b[38;5;241m=\u001b[39m\u001b[38;5;28mself\u001b[39m\u001b[38;5;241m.\u001b[39mkwargs\u001b[38;5;241m.\u001b[39mget(\u001b[38;5;124m'\u001b[39m\u001b[38;5;124mpossible_shots\u001b[39m\u001b[38;5;124m'\u001b[39m),\n\u001b[1;32m    578\u001b[0m     ),\n\u001b[1;32m    579\u001b[0m     axis\u001b[38;5;241m=\u001b[39m\u001b[38;5;241m1\u001b[39m\n\u001b[1;32m    580\u001b[0m )\n\u001b[1;32m    582\u001b[0m \u001b[38;5;28;01mif\u001b[39;00m \u001b[38;5;28mself\u001b[39m\u001b[38;5;241m.\u001b[39mn_attempts \u001b[38;5;241m==\u001b[39m \u001b[38;5;241m1\u001b[39m:\n\u001b[1;32m    583\u001b[0m     \u001b[38;5;28;01mreturn\u001b[39;00m res\n",
      "File \u001b[0;32m~/Documents/ehrmonize/ehrmonize/ehrmonize.py:443\u001b[0m, in \u001b[0;36mEHRmonize.one_hot_drug_classification\u001b[0;34m(self, drugname, route, classif, expanded_classif, possible_shots)\u001b[0m\n\u001b[1;32m    440\u001b[0m results \u001b[38;5;241m=\u001b[39m []\n\u001b[1;32m    442\u001b[0m \u001b[38;5;28;01mfor\u001b[39;00m i \u001b[38;5;129;01min\u001b[39;00m \u001b[38;5;28mrange\u001b[39m(\u001b[38;5;28mself\u001b[39m\u001b[38;5;241m.\u001b[39mn_attempts):\n\u001b[0;32m--> 443\u001b[0m     results\u001b[38;5;241m.\u001b[39mappend(\u001b[38;5;28mself\u001b[39m\u001b[38;5;241m.\u001b[39m_get_one_hot_drug_classification(drugname, route,\n\u001b[1;32m    444\u001b[0m                                                          classif, expanded_classif, possible_shots))\n\u001b[1;32m    446\u001b[0m \u001b[38;5;28;01mif\u001b[39;00m \u001b[38;5;28mself\u001b[39m\u001b[38;5;241m.\u001b[39mn_attempts \u001b[38;5;241m==\u001b[39m \u001b[38;5;241m1\u001b[39m:\n\u001b[1;32m    447\u001b[0m     \u001b[38;5;28;01mreturn\u001b[39;00m results[\u001b[38;5;241m0\u001b[39m]\n",
      "File \u001b[0;32m~/Documents/ehrmonize/ehrmonize/ehrmonize.py:432\u001b[0m, in \u001b[0;36mEHRmonize._get_one_hot_drug_classification\u001b[0;34m(self, drugname, route, classif, expanded_classif, possible_shots)\u001b[0m\n\u001b[1;32m    427\u001b[0m \u001b[38;5;28;01mdef\u001b[39;00m \u001b[38;5;21m_get_one_hot_drug_classification\u001b[39m(\u001b[38;5;28mself\u001b[39m, drugname, route, classif, expanded_classif, possible_shots):\n\u001b[1;32m    430\u001b[0m         prompt \u001b[38;5;241m=\u001b[39m \u001b[38;5;28mself\u001b[39m\u001b[38;5;241m.\u001b[39m_generate_one_hot_drug_classification(drugname, route, classif, expanded_classif, possible_shots)\n\u001b[0;32m--> 432\u001b[0m         output \u001b[38;5;241m=\u001b[39m \u001b[38;5;28mself\u001b[39m\u001b[38;5;241m.\u001b[39m_prompt(\n\u001b[1;32m    433\u001b[0m             prompt\u001b[38;5;241m=\u001b[39m(\u001b[38;5;124m'\u001b[39m\u001b[38;5;130;01m\\n\u001b[39;00m\u001b[38;5;124mHuman: \u001b[39m\u001b[38;5;124m'\u001b[39m \u001b[38;5;241m+\u001b[39m prompt \u001b[38;5;241m+\u001b[39m \u001b[38;5;124m'\u001b[39m\u001b[38;5;130;01m\\n\u001b[39;00m\u001b[38;5;124mAssistant:\u001b[39m\u001b[38;5;124m'\u001b[39m)\n\u001b[1;32m    434\u001b[0m         )\n\u001b[1;32m    436\u001b[0m         \u001b[38;5;28;01mreturn\u001b[39;00m \u001b[38;5;28mself\u001b[39m\u001b[38;5;241m.\u001b[39m_clean_text(output)\n",
      "File \u001b[0;32m~/Documents/ehrmonize/ehrmonize/ehrmonize.py:196\u001b[0m, in \u001b[0;36mEHRmonize._prompt\u001b[0;34m(self, prompt)\u001b[0m\n\u001b[1;32m    193\u001b[0m     \u001b[38;5;28;01mreturn\u001b[39;00m \u001b[38;5;28mself\u001b[39m\u001b[38;5;241m.\u001b[39m_clean_text(text)\n\u001b[1;32m    195\u001b[0m \u001b[38;5;28;01melse\u001b[39;00m:\n\u001b[0;32m--> 196\u001b[0m     \u001b[38;5;28;01mraise\u001b[39;00m \u001b[38;5;167;01mValueError\u001b[39;00m(\u001b[38;5;124m'\u001b[39m\u001b[38;5;124mmodel_id not supported. Please make sure you are using the correct model_id. We currently support: \u001b[39m\u001b[38;5;130;01m\\\u001b[39;00m\n\u001b[1;32m    197\u001b[0m \u001b[38;5;124m                     gpt-3.5-turbo, gpt-4, gpt-4o,\u001b[39m\u001b[38;5;130;01m\\\u001b[39;00m\n\u001b[1;32m    198\u001b[0m \u001b[38;5;124m                     meta.llama2-13b-chat-v1, meta.llama2-70b-chat-v1, meta.llama3-70b-instruct-v1:0\u001b[39m\u001b[38;5;130;01m\\\u001b[39;00m\n\u001b[1;32m    199\u001b[0m \u001b[38;5;124m                     anthropic.claude-v2:1, anthropic.claude-instant-v1,\u001b[39m\u001b[38;5;130;01m\\\u001b[39;00m\n\u001b[1;32m    200\u001b[0m \u001b[38;5;124m                     mistral.mistral-7b-instruct-v0:2, mistral.mixtral-8x7b-instruct-v0:1\u001b[39m\u001b[38;5;124m'\u001b[39m)\n",
      "\u001b[0;31mValueError\u001b[0m: model_id not supported. Please make sure you are using the correct model_id. We currently support:                              gpt-3.5-turbo, gpt-4, gpt-4o,                             meta.llama2-13b-chat-v1, meta.llama2-70b-chat-v1, meta.llama3-70b-instruct-v1:0                             anthropic.claude-v2:1, anthropic.claude-instant-v1,                             mistral.mistral-7b-instruct-v0:2, mistral.mixtral-8x7b-instruct-v0:1"
     ]
    }
   ],
   "source": [
    "for m in models:\n",
    "      ehrm = EHRmonize(m, temperature=.1)\n",
    "\n",
    "      ehrm.config_prompting(\n",
    "            n_attempts=2,\n",
    "            agentic=False,\n",
    "            n_shots=0,\n",
    "      )\n",
    "\n",
    "      ehrm.set_task(\n",
    "            task='one_hot_drug_classification',\n",
    "            classif='antibiotic'\n",
    "      )\n",
    "\n",
    "      pred = ehrm.predict(\n",
    "            pd.DataFrame({\n",
    "            'drug': ['ativan','vancocin'],\n",
    "            'route': ['intravenous','oral']\n",
    "        })\n",
    "      )['pred']\n",
    "\n",
    "      acc = accuracy_score(\n",
    "            pd.Series([\"0\",\"1\"]),\n",
    "            pred\n",
    "      )\n",
    "\n",
    "      print(pred)\n",
    "      print(acc)\n",
    "\n"
   ]
  },
  {
   "cell_type": "code",
   "execution_count": 4,
   "metadata": {},
   "outputs": [
    {
     "name": "stdout",
     "output_type": "stream",
     "text": [
      "0    0\n",
      "1    1\n",
      "dtype: object\n",
      "1.0\n"
     ]
    }
   ],
   "source": [
    "for m in models:\n",
    "      ehrm = EHRmonize(m, temperature=.1)\n",
    "\n",
    "      ehrm.config_prompting(\n",
    "            n_attempts=2,\n",
    "            agentic=False,\n",
    "            n_shots=0,\n",
    "      )\n",
    "\n",
    "      ehrm.set_task(\n",
    "            task='custom',\n",
    "            prompt='Please respond 1 if the medication below is an antibiotic, else 0:',\n",
    "      )\n",
    "\n",
    "      pred = ehrm.predict(\n",
    "            pd.Series(['ativan','vancocin']),\n",
    "      )['pred']\n",
    "\n",
    "      acc = accuracy_score(\n",
    "            pd.Series([\"0\",\"1\"]),\n",
    "            pred\n",
    "      )\n",
    "\n",
    "      print(pred)\n",
    "      print(acc)\n",
    "\n"
   ]
  },
  {
   "cell_type": "code",
   "execution_count": 8,
   "metadata": {},
   "outputs": [
    {
     "name": "stdout",
     "output_type": "stream",
     "text": [
      "0     lorazepam\n",
      "1    vancomycin\n",
      "dtype: object\n",
      "1.0\n"
     ]
    }
   ],
   "source": [
    "for m in models:\n",
    "      ehrm = EHRmonize(m, temperature=.1)\n",
    "\n",
    "      ehrm.config_prompting(\n",
    "            n_attempts=1,\n",
    "            agentic=False,\n",
    "            n_shots=0,\n",
    "      )\n",
    "\n",
    "      ehrm.set_task(\n",
    "            task='get_generic_name',\n",
    "      )\n",
    "\n",
    "      pred = ehrm.predict(\n",
    "            pd.Series(['ativan','vancocin']),\n",
    "      )\n",
    "\n",
    "      acc = accuracy_score(\n",
    "            pd.Series(['lorazepam','vancomycin']),\n",
    "            pred\n",
    "      )\n",
    "\n",
    "      print(pred)\n",
    "      print(acc)\n",
    "\n"
   ]
  },
  {
   "cell_type": "code",
   "execution_count": 9,
   "metadata": {},
   "outputs": [
    {
     "name": "stdout",
     "output_type": "stream",
     "text": [
      "0     lorazepam\n",
      "1    vancomycin\n",
      "dtype: object\n",
      "1.0\n"
     ]
    }
   ],
   "source": [
    "for m in models:\n",
    "      ehrm = EHRmonize(m, temperature=.1)\n",
    "\n",
    "      ehrm.config_prompting(\n",
    "            n_attempts=2,\n",
    "            agentic=False,\n",
    "            n_shots=0,\n",
    "      )\n",
    "\n",
    "      ehrm.set_task(\n",
    "            task='get_generic_name',\n",
    "      )\n",
    "\n",
    "      pred = ehrm.predict(\n",
    "            pd.Series(['ativan','vancocin']),\n",
    "      )['pred']\n",
    "\n",
    "      acc = accuracy_score(\n",
    "            pd.Series(['lorazepam','vancomycin']),\n",
    "            pred\n",
    "      )\n",
    "\n",
    "      print(pred)\n",
    "      print(acc)\n",
    "\n"
   ]
  },
  {
   "cell_type": "code",
   "execution_count": 10,
   "metadata": {},
   "outputs": [
    {
     "name": "stdout",
     "output_type": "stream",
     "text": [
      "0    intravenous\n",
      "1           oral\n",
      "2          other\n",
      "dtype: object\n",
      "1.0\n"
     ]
    }
   ],
   "source": [
    "for m in models:\n",
    "      ehrm = EHRmonize(m, temperature=.1)\n",
    "\n",
    "      ehrm.config_prompting(\n",
    "            n_attempts=1,\n",
    "            agentic=False,\n",
    "            n_shots=0,\n",
    "      )\n",
    "\n",
    "      ehrm.set_task(\n",
    "            task='get_generic_route',\n",
    "            classes=['intravenous', 'oral', 'other'],\n",
    "      )\n",
    "\n",
    "      pred = ehrm.predict(\n",
    "            pd.Series(['intravenous','via mouth', 'rectal']),\n",
    "      )\n",
    "\n",
    "      acc = accuracy_score(\n",
    "            pd.Series(['intravenous','oral','other']),\n",
    "            pred\n",
    "      )\n",
    "\n",
    "      print(pred)\n",
    "      print(acc)\n",
    "\n"
   ]
  },
  {
   "cell_type": "code",
   "execution_count": null,
   "metadata": {},
   "outputs": [],
   "source": []
  },
  {
   "cell_type": "code",
   "execution_count": 4,
   "metadata": {},
   "outputs": [
    {
     "name": "stdout",
     "output_type": "stream",
     "text": [
      "0      sedative\n",
      "1    antibiotic\n",
      "dtype: object\n",
      "1.0\n"
     ]
    }
   ],
   "source": [
    "for m in models:\n",
    "      ehrm = EHRmonize(m, temperature=.1)\n",
    "\n",
    "      ehrm.config_prompting(\n",
    "            n_attempts=2,\n",
    "            agentic=False,\n",
    "            n_shots=0,\n",
    "      )\n",
    "\n",
    "      ehrm.set_task(\n",
    "            task='classify_drug',\n",
    "            classes=['antibiotic', 'sedative', 'other'],\n",
    "      )\n",
    "\n",
    "      pred = ehrm.predict(\n",
    "        pd.DataFrame({\n",
    "            'drug': ['ativan','vancocin'],\n",
    "            'route': ['intravenous','oral']\n",
    "        })\n",
    "      )\n",
    "\n",
    "      acc = ehrm.evaluate(\n",
    "            pd.Series(['sedative','antibiotic']),\n",
    "            pred\n",
    "      )\n",
    "\n",
    "      print(pred)\n",
    "      print(acc)\n",
    "\n"
   ]
  },
  {
   "cell_type": "code",
   "execution_count": 3,
   "metadata": {},
   "outputs": [
    {
     "name": "stdout",
     "output_type": "stream",
     "text": [
      "Model: meta.llama3-70b-instruct-v1:0\n",
      "Results: ['oral', 'oral', 'oral']\n",
      "Decision: oral\n",
      "Consistency: 1.00\n"
     ]
    }
   ],
   "source": [
    "possible_shots = [\n",
    "    \"An input route 'intraven' would be classified as 'intravenous'.\",\n",
    "    \"An input route 'intramuscul' would be classified as 'intramuscular'.\",\n",
    "    \"An input route 'rEcTal' would be classified as 'rectal'.\",\n",
    "    \"An input route 'oral' would be classified as 'oral'.\",\n",
    "    \"An input route 'po' would be classified as 'oral'.\",\n",
    "]\n",
    "\n",
    "for m in models:\n",
    "      ehrm = EHRmonize(m, temperature=.1)\n",
    "\n",
    "      ehrm.config(\n",
    "            n_attempts=3,\n",
    "            agentic=False,\n",
    "            n_shots=2,\n",
    "      )\n",
    "      \n",
    "      results, decision, consistency = ehrm.get_generic_route(\n",
    "            route='through the mouth',\n",
    "            classes=['intravenous', 'rectal', 'oral','other'],\n",
    "            possible_shots=possible_shots,\n",
    "          )\n",
    "\n",
    "      print(f\"Model: {m}\")\n",
    "      print(f\"Results: {results}\")\n",
    "      print(f\"Decision: {decision}\")\n",
    "      print(f\"Consistency: {consistency:.2f}\")\n",
    "    "
   ]
  },
  {
   "cell_type": "code",
   "execution_count": 4,
   "metadata": {},
   "outputs": [
    {
     "name": "stdout",
     "output_type": "stream",
     "text": [
      "Model: meta.llama3-70b-instruct-v1:0\n",
      "Results: ['lorazepam', 'lorazepam', 'lorazepam']\n",
      "Decision: lorazepam\n",
      "Consistency: 1.00\n"
     ]
    }
   ],
   "source": [
    "possible_shots = [\n",
    "    \"An input drugname 'vancocin' would be classified as 'vancomycin'.\",\n",
    "    \"An input drugname 'vancomycin' would be classified as 'vancomycin'.\",\n",
    "    \"An input drugname 'Toprol XL' would be classified as 'metroprolol'.\",\n",
    "    \"An input drugname 'Adderall' would be classified as 'amphetamine/dextroamphetamine'.\",\n",
    "    \"An input drugname 'Tylenol' would be classified as 'acetaminophen'.\",\n",
    "]\n",
    "\n",
    "for m in models:\n",
    "      ehrm = EHRmonize(m, temperature=.1)\n",
    "\n",
    "      ehrm.config(\n",
    "            n_attempts=3,\n",
    "            agentic=False,\n",
    "            n_shots=2,\n",
    "      )\n",
    "\n",
    "      results, decision, consistency = ehrm.get_generic_name(\n",
    "            drugname='ativan',\n",
    "            possible_shots=possible_shots,\n",
    "          )\n",
    "\n",
    "      print(f\"Model: {m}\")\n",
    "      print(f\"Results: {results}\")\n",
    "      print(f\"Decision: {decision}\")\n",
    "      print(f\"Consistency: {consistency:.2f}\")"
   ]
  },
  {
   "cell_type": "code",
   "execution_count": 5,
   "metadata": {},
   "outputs": [
    {
     "name": "stdout",
     "output_type": "stream",
     "text": [
      "Model: meta.llama3-70b-instruct-v1:0\n",
      "Results: ['other', 'other', 'other']\n",
      "Decision: other\n",
      "Consistency: 1.00\n"
     ]
    }
   ],
   "source": [
    "possible_shots = [\n",
    "    \"An input drugname 'vancocin' with a route 'intravenous' would be classified as 'antibiotic'.\",\n",
    "    \"An input drugname 'vancomycin' with a route 'intravenous' would be classified as 'antibiotic'.\",\n",
    "    \"An input drugname 'Toprol XL' with a route 'oral' would be classified as 'beta blocker'.\",\n",
    "    \"An input drugname 'Tylenol' with a route 'oral' would be classified as 'analgesic'.\",\n",
    "    \"An input drugname 'vasopressin' with a route 'intravenous' would be classified as 'vasopressor'.\",\n",
    "]\n",
    "\n",
    "for m in models:\n",
    "      ehrm = EHRmonize(m, temperature=.1)\n",
    "\n",
    "      ehrm.config(\n",
    "            n_attempts=3,\n",
    "            agentic=False,\n",
    "            n_shots=2,\n",
    "      )\n",
    "\n",
    "      results, decision, consistency = ehrm.classify_drug(\n",
    "            drugname='dobutamine',\n",
    "            route='intravenous',\n",
    "            classes=['antibiotic', 'anticoagulant', 'other'],\n",
    "            possible_shots=possible_shots,\n",
    "          )\n",
    "\n",
    "      print(f\"Model: {m}\")\n",
    "      print(f\"Results: {results}\")\n",
    "      print(f\"Decision: {decision}\")\n",
    "      print(f\"Consistency: {consistency:.2f}\")\n",
    "    "
   ]
  },
  {
   "cell_type": "code",
   "execution_count": null,
   "metadata": {},
   "outputs": [],
   "source": []
  }
 ],
 "metadata": {
  "kernelspec": {
   "display_name": "aiwonglab_ubuntu",
   "language": "python",
   "name": "python3"
  },
  "language_info": {
   "codemirror_mode": {
    "name": "ipython",
    "version": 3
   },
   "file_extension": ".py",
   "mimetype": "text/x-python",
   "name": "python",
   "nbconvert_exporter": "python",
   "pygments_lexer": "ipython3",
   "version": "3.12.2"
  }
 },
 "nbformat": 4,
 "nbformat_minor": 2
}
