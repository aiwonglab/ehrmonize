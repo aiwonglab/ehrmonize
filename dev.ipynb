{
 "cells": [
  {
   "cell_type": "code",
   "execution_count": 1,
   "metadata": {},
   "outputs": [],
   "source": [
    "from ehrmonize import EHRmonize"
   ]
  },
  {
   "cell_type": "code",
   "execution_count": 2,
   "metadata": {},
   "outputs": [],
   "source": [
    "models = [\n",
    "    'gpt-3.5-turbo',\n",
    "    'gpt-4',\n",
    "    'gpt-4o',\n",
    "    # 'meta.llama2-13b-chat-v1',\n",
    "    # 'meta.llama2-70b-chat-v1',\n",
    "    'meta.llama3-70b-instruct-v1:0',\n",
    "    'anthropic.claude-v2:1',\n",
    "    'anthropic.claude-instant-v1',\n",
    "    # 'mistral.mistral-7b-instruct-v0:2',\n",
    "    'mistral.mixtral-8x7b-instruct-v0:1',\n",
    "]"
   ]
  },
  {
   "cell_type": "code",
   "execution_count": 5,
   "metadata": {},
   "outputs": [
    {
     "name": "stdout",
     "output_type": "stream",
     "text": [
      "oral\n",
      "oral\n",
      "oral\n",
      "oral\n",
      "oral\n",
      "oral\n",
      "oral\n"
     ]
    }
   ],
   "source": [
    "for m in models:\n",
    "    ehrm = EHRmonize(m)\n",
    "    print(ehrm.clean_route('through the mouth'))"
   ]
  },
  {
   "cell_type": "code",
   "execution_count": 13,
   "metadata": {},
   "outputs": [
    {
     "name": "stdout",
     "output_type": "stream",
     "text": [
      "vancomycin\n",
      "vancomycin\n",
      "vancomycin\n",
      "vancomycin\n",
      "vancomycin\n",
      "vancomycin\n",
      "vancomycin\n"
     ]
    }
   ],
   "source": [
    "for m in models:\n",
    "    ehrm = EHRmonize(m)\n",
    "    print(ehrm.get_generic('vancocin'))"
   ]
  },
  {
   "cell_type": "code",
   "execution_count": 7,
   "metadata": {},
   "outputs": [
    {
     "name": "stdout",
     "output_type": "stream",
     "text": [
      "antibiotic\n",
      "antibiotic\n",
      "antibiotic\n",
      "antibiotic\n",
      "antibiotic\n",
      "antibiotic\n",
      "antibiotic\n"
     ]
    }
   ],
   "source": [
    "for m in models:\n",
    "    ehrm = EHRmonize(m)\n",
    "    print(ehrm.classify_drug('vancocin', ['antibiotic', 'sedative', 'other']))"
   ]
  },
  {
   "cell_type": "code",
   "execution_count": null,
   "metadata": {},
   "outputs": [],
   "source": []
  }
 ],
 "metadata": {
  "kernelspec": {
   "display_name": "aiwonglab_ubuntu",
   "language": "python",
   "name": "python3"
  },
  "language_info": {
   "codemirror_mode": {
    "name": "ipython",
    "version": 3
   },
   "file_extension": ".py",
   "mimetype": "text/x-python",
   "name": "python",
   "nbconvert_exporter": "python",
   "pygments_lexer": "ipython3",
   "version": "3.12.2"
  }
 },
 "nbformat": 4,
 "nbformat_minor": 2
}
