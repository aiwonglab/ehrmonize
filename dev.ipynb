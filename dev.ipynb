{
 "cells": [
  {
   "cell_type": "code",
   "execution_count": 1,
   "metadata": {},
   "outputs": [],
   "source": [
    "from ehrmonize import EHRmonize"
   ]
  },
  {
   "cell_type": "code",
   "execution_count": 2,
   "metadata": {},
   "outputs": [],
   "source": [
    "models = [\n",
    "    'gpt-3.5-turbo',\n",
    "    # 'gpt-4',\n",
    "    'gpt-4o',\n",
    "    # 'meta.llama2-13b-chat-v1',\n",
    "    # 'meta.llama2-70b-chat-v1',\n",
    "    'meta.llama3-70b-instruct-v1:0',\n",
    "    'anthropic.claude-v2:1',\n",
    "    'anthropic.claude-instant-v1',\n",
    "    # 'mistral.mistral-7b-instruct-v0:2',\n",
    "    'mistral.mixtral-8x7b-instruct-v0:1',\n",
    "]"
   ]
  },
  {
   "cell_type": "code",
   "execution_count": 5,
   "metadata": {},
   "outputs": [
    {
     "name": "stdout",
     "output_type": "stream",
     "text": [
      "Model: gpt-3.5-turbo\n",
      "Results: ['rectal', 'other', 'other']\n",
      "Decision: other\n",
      "Consistency: 0.67\n",
      "Model: gpt-4o\n",
      "Results: ['other', 'other', 'other']\n",
      "Decision: other\n",
      "Consistency: 1.00\n",
      "Model: meta.llama3-70b-instruct-v1:0\n",
      "Results: ['other', 'other', 'other']\n",
      "Decision: other\n",
      "Consistency: 1.00\n",
      "Model: anthropic.claude-v2:1\n",
      "Results: ['rectal', 'rectal', 'rectal']\n",
      "Decision: rectal\n",
      "Consistency: 1.00\n",
      "Model: anthropic.claude-instant-v1\n",
      "Results: ['rectal', 'other', 'other']\n",
      "Decision: other\n",
      "Consistency: 0.67\n",
      "Model: mistral.mixtral-8x7b-instruct-v0:1\n",
      "Results: ['other', 'other', 'other']\n",
      "Decision: other\n",
      "Consistency: 1.00\n"
     ]
    }
   ],
   "source": [
    "for m in models:\n",
    "      ehrm = EHRmonize(m, temperature=1)\n",
    "\n",
    "      results, decision, consistency = ehrm.clean_route(\n",
    "            route='through the mouth',\n",
    "            classes=['intravenous', 'rectal','other'],\n",
    "            n_attempts=3,\n",
    "            agentic=False\n",
    "          )\n",
    "\n",
    "      print(f\"Model: {m}\")\n",
    "      print(f\"Results: {results}\")\n",
    "      print(f\"Decision: {decision}\")\n",
    "      print(f\"Consistency: {consistency:.2f}\")\n",
    "    "
   ]
  },
  {
   "cell_type": "code",
   "execution_count": 6,
   "metadata": {},
   "outputs": [
    {
     "name": "stdout",
     "output_type": "stream",
     "text": [
      "Model: gpt-3.5-turbo\n",
      "Results: ['lorazepam', 'lorazepam', 'generic name: lorazepam']\n",
      "Decision: lorazepam\n",
      "Consistency: 0.67\n",
      "Model: gpt-4o\n",
      "Results: ['lorazepam', 'lorazepam', 'lorazepam']\n",
      "Decision: lorazepam\n",
      "Consistency: 1.00\n",
      "Model: meta.llama3-70b-instruct-v1:0\n",
      "Results: ['lorazepam', 'lorazepam', 'lorazepam']\n",
      "Decision: lorazepam\n",
      "Consistency: 1.00\n",
      "Model: anthropic.claude-v2:1\n",
      "Results: ['lorazepam', 'lorazepam', 'lorazepam']\n",
      "Decision: lorazepam\n",
      "Consistency: 1.00\n",
      "Model: anthropic.claude-instant-v1\n",
      "Results: ['lorazepam', 'lorazepam', 'lorazepam']\n",
      "Decision: lorazepam\n",
      "Consistency: 1.00\n",
      "Model: mistral.mixtral-8x7b-instruct-v0:1\n",
      "Results: ['lorazepam', 'lorazepam', 'lorazepam']\n",
      "Decision: lorazepam\n",
      "Consistency: 1.00\n"
     ]
    }
   ],
   "source": [
    "for m in models:\n",
    "      ehrm = EHRmonize(m, temperature=1)\n",
    "\n",
    "      results, decision, consistency = ehrm.get_generic_name(\n",
    "            drugname='ativan',\n",
    "            n_attempts=3,\n",
    "            agentic=True\n",
    "          )\n",
    "\n",
    "      print(f\"Model: {m}\")\n",
    "      print(f\"Results: {results}\")\n",
    "      print(f\"Decision: {decision}\")\n",
    "      print(f\"Consistency: {consistency:.2f}\")\n",
    "    "
   ]
  },
  {
   "cell_type": "code",
   "execution_count": 9,
   "metadata": {},
   "outputs": [
    {
     "name": "stdout",
     "output_type": "stream",
     "text": [
      "Model: gpt-3.5-turbo\n",
      "Results: ['other', 'other', 'other']\n",
      "Decision: other\n",
      "Consistency: 1.00\n",
      "Model: gpt-4o\n",
      "Results: ['other', 'other', 'other']\n",
      "Decision: other\n",
      "Consistency: 1.00\n",
      "Model: meta.llama3-70b-instruct-v1:0\n",
      "Results: ['other', 'other', '[antibiotic, other]']\n",
      "Decision: other\n",
      "Consistency: 0.67\n",
      "Model: anthropic.claude-v2:1\n",
      "Results: ['antibiotic', 'antibiotic', 'antibiotic']\n",
      "Decision: antibiotic\n",
      "Consistency: 1.00\n",
      "Model: anthropic.claude-instant-v1\n",
      "Results: ['other', 'other', 'other']\n",
      "Decision: other\n",
      "Consistency: 1.00\n",
      "Model: mistral.mixtral-8x7b-instruct-v0:1\n",
      "Results: ['other', 'other  conf', 'other  confidence:']\n",
      "Decision: unsure\n",
      "Consistency: 0.33\n"
     ]
    }
   ],
   "source": [
    "for m in models:\n",
    "      ehrm = EHRmonize(m, temperature=1)\n",
    "\n",
    "      results, decision, consistency = ehrm.classify_drug(\n",
    "            drugname='ativan/vancocin',\n",
    "            classes=['antibiotic', 'anticoagulant', 'other'],\n",
    "            n_attempts=3,\n",
    "            agentic=False\n",
    "          )\n",
    "\n",
    "      print(f\"Model: {m}\")\n",
    "      print(f\"Results: {results}\")\n",
    "      print(f\"Decision: {decision}\")\n",
    "      print(f\"Consistency: {consistency:.2f}\")\n",
    "    "
   ]
  },
  {
   "cell_type": "code",
   "execution_count": null,
   "metadata": {},
   "outputs": [],
   "source": []
  }
 ],
 "metadata": {
  "kernelspec": {
   "display_name": "aiwonglab_ubuntu",
   "language": "python",
   "name": "python3"
  },
  "language_info": {
   "codemirror_mode": {
    "name": "ipython",
    "version": 3
   },
   "file_extension": ".py",
   "mimetype": "text/x-python",
   "name": "python",
   "nbconvert_exporter": "python",
   "pygments_lexer": "ipython3",
   "version": "3.12.2"
  }
 },
 "nbformat": 4,
 "nbformat_minor": 2
}
