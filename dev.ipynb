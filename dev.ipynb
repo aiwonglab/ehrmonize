{
 "cells": [
  {
   "cell_type": "code",
   "execution_count": 1,
   "metadata": {},
   "outputs": [],
   "source": [
    "from ehrmonize import EHRmonize\n",
    "import pandas as pd"
   ]
  },
  {
   "cell_type": "code",
   "execution_count": 2,
   "metadata": {},
   "outputs": [],
   "source": [
    "models = [\n",
    "    # 'gpt-3.5-turbo',\n",
    "    # 'gpt-4',\n",
    "    # 'gpt-4o',\n",
    "    # 'meta.llama2-13b-chat-v1',\n",
    "    # 'meta.llama2-70b-chat-v1',\n",
    "    'meta.llama3-70b-instruct-v1:0',\n",
    "    # 'anthropic.claude-v2:1',\n",
    "    # 'anthropic.claude-instant-v1',\n",
    "    # 'mistral.mistral-7b-instruct-v0:2',\n",
    "    # 'mistral.mixtral-8x7b-instruct-v0:1',\n",
    "]"
   ]
  },
  {
   "cell_type": "code",
   "execution_count": 5,
   "metadata": {},
   "outputs": [
    {
     "ename": "ValueError",
     "evalue": "('Lengths must match to compare', (2,), (3, 2))",
     "output_type": "error",
     "traceback": [
      "\u001b[0;31m---------------------------------------------------------------------------\u001b[0m",
      "\u001b[0;31mValueError\u001b[0m                                Traceback (most recent call last)",
      "Cell \u001b[0;32mIn[5], line 18\u001b[0m\n\u001b[1;32m     10\u001b[0m ehrm\u001b[38;5;241m.\u001b[39mset_task(\n\u001b[1;32m     11\u001b[0m       task\u001b[38;5;241m=\u001b[39m\u001b[38;5;124m'\u001b[39m\u001b[38;5;124mget_generic_name\u001b[39m\u001b[38;5;124m'\u001b[39m,\n\u001b[1;32m     12\u001b[0m )\n\u001b[1;32m     14\u001b[0m pred \u001b[38;5;241m=\u001b[39m ehrm\u001b[38;5;241m.\u001b[39mpredict(\n\u001b[1;32m     15\u001b[0m       pd\u001b[38;5;241m.\u001b[39mSeries([\u001b[38;5;124m'\u001b[39m\u001b[38;5;124mativan\u001b[39m\u001b[38;5;124m'\u001b[39m,\u001b[38;5;124m'\u001b[39m\u001b[38;5;124mvancocin\u001b[39m\u001b[38;5;124m'\u001b[39m]),\n\u001b[1;32m     16\u001b[0m )\n\u001b[0;32m---> 18\u001b[0m acc \u001b[38;5;241m=\u001b[39m ehrm\u001b[38;5;241m.\u001b[39mevaluate(\n\u001b[1;32m     19\u001b[0m       pd\u001b[38;5;241m.\u001b[39mSeries([\u001b[38;5;124m'\u001b[39m\u001b[38;5;124mlorazepam\u001b[39m\u001b[38;5;124m'\u001b[39m,\u001b[38;5;124m'\u001b[39m\u001b[38;5;124mvancomycin\u001b[39m\u001b[38;5;124m'\u001b[39m]),\n\u001b[1;32m     20\u001b[0m       pred\n\u001b[1;32m     21\u001b[0m )\n\u001b[1;32m     23\u001b[0m \u001b[38;5;28mprint\u001b[39m(pred)\n\u001b[1;32m     24\u001b[0m \u001b[38;5;28mprint\u001b[39m(acc)\n",
      "File \u001b[0;32m~/Documents/ehrmonize/ehrmonize/ehrmonize.py:452\u001b[0m, in \u001b[0;36mEHRmonize.evaluate\u001b[0;34m(self, input, pred)\u001b[0m\n\u001b[1;32m    451\u001b[0m \u001b[38;5;28;01mdef\u001b[39;00m \u001b[38;5;21mevaluate\u001b[39m(\u001b[38;5;28mself\u001b[39m, \u001b[38;5;28minput\u001b[39m, pred):\n\u001b[0;32m--> 452\u001b[0m     \u001b[38;5;28;01mreturn\u001b[39;00m (\u001b[38;5;28minput\u001b[39m \u001b[38;5;241m==\u001b[39m pred)\u001b[38;5;241m.\u001b[39mmean()\n",
      "File \u001b[0;32m/opt/anaconda3/envs/ml/lib/python3.12/site-packages/pandas/core/ops/common.py:76\u001b[0m, in \u001b[0;36m_unpack_zerodim_and_defer.<locals>.new_method\u001b[0;34m(self, other)\u001b[0m\n\u001b[1;32m     72\u001b[0m             \u001b[38;5;28;01mreturn\u001b[39;00m \u001b[38;5;28mNotImplemented\u001b[39m\n\u001b[1;32m     74\u001b[0m other \u001b[38;5;241m=\u001b[39m item_from_zerodim(other)\n\u001b[0;32m---> 76\u001b[0m \u001b[38;5;28;01mreturn\u001b[39;00m method(\u001b[38;5;28mself\u001b[39m, other)\n",
      "File \u001b[0;32m/opt/anaconda3/envs/ml/lib/python3.12/site-packages/pandas/core/arraylike.py:40\u001b[0m, in \u001b[0;36mOpsMixin.__eq__\u001b[0;34m(self, other)\u001b[0m\n\u001b[1;32m     38\u001b[0m \u001b[38;5;129m@unpack_zerodim_and_defer\u001b[39m(\u001b[38;5;124m\"\u001b[39m\u001b[38;5;124m__eq__\u001b[39m\u001b[38;5;124m\"\u001b[39m)\n\u001b[1;32m     39\u001b[0m \u001b[38;5;28;01mdef\u001b[39;00m \u001b[38;5;21m__eq__\u001b[39m(\u001b[38;5;28mself\u001b[39m, other):\n\u001b[0;32m---> 40\u001b[0m     \u001b[38;5;28;01mreturn\u001b[39;00m \u001b[38;5;28mself\u001b[39m\u001b[38;5;241m.\u001b[39m_cmp_method(other, operator\u001b[38;5;241m.\u001b[39meq)\n",
      "File \u001b[0;32m/opt/anaconda3/envs/ml/lib/python3.12/site-packages/pandas/core/series.py:6119\u001b[0m, in \u001b[0;36mSeries._cmp_method\u001b[0;34m(self, other, op)\u001b[0m\n\u001b[1;32m   6116\u001b[0m lvalues \u001b[38;5;241m=\u001b[39m \u001b[38;5;28mself\u001b[39m\u001b[38;5;241m.\u001b[39m_values\n\u001b[1;32m   6117\u001b[0m rvalues \u001b[38;5;241m=\u001b[39m extract_array(other, extract_numpy\u001b[38;5;241m=\u001b[39m\u001b[38;5;28;01mTrue\u001b[39;00m, extract_range\u001b[38;5;241m=\u001b[39m\u001b[38;5;28;01mTrue\u001b[39;00m)\n\u001b[0;32m-> 6119\u001b[0m res_values \u001b[38;5;241m=\u001b[39m ops\u001b[38;5;241m.\u001b[39mcomparison_op(lvalues, rvalues, op)\n\u001b[1;32m   6121\u001b[0m \u001b[38;5;28;01mreturn\u001b[39;00m \u001b[38;5;28mself\u001b[39m\u001b[38;5;241m.\u001b[39m_construct_result(res_values, name\u001b[38;5;241m=\u001b[39mres_name)\n",
      "File \u001b[0;32m/opt/anaconda3/envs/ml/lib/python3.12/site-packages/pandas/core/ops/array_ops.py:321\u001b[0m, in \u001b[0;36mcomparison_op\u001b[0;34m(left, right, op)\u001b[0m\n\u001b[1;32m    316\u001b[0m \u001b[38;5;28;01mif\u001b[39;00m \u001b[38;5;28misinstance\u001b[39m(rvalues, (np\u001b[38;5;241m.\u001b[39mndarray, ABCExtensionArray)):\n\u001b[1;32m    317\u001b[0m     \u001b[38;5;66;03m# TODO: make this treatment consistent across ops and classes.\u001b[39;00m\n\u001b[1;32m    318\u001b[0m     \u001b[38;5;66;03m#  We are not catching all listlikes here (e.g. frozenset, tuple)\u001b[39;00m\n\u001b[1;32m    319\u001b[0m     \u001b[38;5;66;03m#  The ambiguous case is object-dtype.  See GH#27803\u001b[39;00m\n\u001b[1;32m    320\u001b[0m     \u001b[38;5;28;01mif\u001b[39;00m \u001b[38;5;28mlen\u001b[39m(lvalues) \u001b[38;5;241m!=\u001b[39m \u001b[38;5;28mlen\u001b[39m(rvalues):\n\u001b[0;32m--> 321\u001b[0m         \u001b[38;5;28;01mraise\u001b[39;00m \u001b[38;5;167;01mValueError\u001b[39;00m(\n\u001b[1;32m    322\u001b[0m             \u001b[38;5;124m\"\u001b[39m\u001b[38;5;124mLengths must match to compare\u001b[39m\u001b[38;5;124m\"\u001b[39m, lvalues\u001b[38;5;241m.\u001b[39mshape, rvalues\u001b[38;5;241m.\u001b[39mshape\n\u001b[1;32m    323\u001b[0m         )\n\u001b[1;32m    325\u001b[0m \u001b[38;5;28;01mif\u001b[39;00m should_extension_dispatch(lvalues, rvalues) \u001b[38;5;129;01mor\u001b[39;00m (\n\u001b[1;32m    326\u001b[0m     (\u001b[38;5;28misinstance\u001b[39m(rvalues, (Timedelta, BaseOffset, Timestamp)) \u001b[38;5;129;01mor\u001b[39;00m right \u001b[38;5;129;01mis\u001b[39;00m NaT)\n\u001b[1;32m    327\u001b[0m     \u001b[38;5;129;01mand\u001b[39;00m lvalues\u001b[38;5;241m.\u001b[39mdtype \u001b[38;5;241m!=\u001b[39m \u001b[38;5;28mobject\u001b[39m\n\u001b[1;32m    328\u001b[0m ):\n\u001b[1;32m    329\u001b[0m     \u001b[38;5;66;03m# Call the method on lvalues\u001b[39;00m\n\u001b[1;32m    330\u001b[0m     res_values \u001b[38;5;241m=\u001b[39m op(lvalues, rvalues)\n",
      "\u001b[0;31mValueError\u001b[0m: ('Lengths must match to compare', (2,), (3, 2))"
     ]
    }
   ],
   "source": [
    "for m in models:\n",
    "      ehrm = EHRmonize(m, temperature=.1)\n",
    "\n",
    "      ehrm.config_prompting(\n",
    "            n_attempts=2,\n",
    "            agentic=False,\n",
    "            n_shots=0,\n",
    "      )\n",
    "\n",
    "      ehrm.set_task(\n",
    "            task='get_generic_name',\n",
    "      )\n",
    "\n",
    "      pred = ehrm.predict(\n",
    "            pd.Series(['ativan','vancocin']),\n",
    "      )['pred']\n",
    "\n",
    "      acc = ehrm.evaluate(\n",
    "            pd.Series(['lorazepam','vancomycin']),\n",
    "            pred\n",
    "      )\n",
    "\n",
    "      print(pred)\n",
    "      print(acc)\n",
    "\n"
   ]
  },
  {
   "cell_type": "code",
   "execution_count": 6,
   "metadata": {},
   "outputs": [
    {
     "data": {
      "text/plain": [
       "[0     lorazepam\n",
       " 1    vancomycin\n",
       " dtype: object,\n",
       " 0    1.0\n",
       " 1    1.0\n",
       " dtype: float64,\n",
       " 0      [lorazepam, lorazepam]\n",
       " 1    [vancomycin, vancomycin]\n",
       " dtype: object]"
      ]
     },
     "execution_count": 6,
     "metadata": {},
     "output_type": "execute_result"
    }
   ],
   "source": [
    "pred"
   ]
  },
  {
   "cell_type": "code",
   "execution_count": 3,
   "metadata": {},
   "outputs": [
    {
     "name": "stdout",
     "output_type": "stream",
     "text": [
      "0    ([intravenous, intravenous], intravenous, 1.0)\n",
      "1                         ([oral, oral], oral, 1.0)\n",
      "2                      ([other, other], other, 1.0)\n",
      "dtype: object\n",
      "0.0\n"
     ]
    }
   ],
   "source": [
    "for m in models:\n",
    "      ehrm = EHRmonize(m, temperature=.1)\n",
    "\n",
    "      ehrm.config_prompting(\n",
    "            n_attempts=2,\n",
    "            agentic=False,\n",
    "            n_shots=0,\n",
    "      )\n",
    "\n",
    "      ehrm.set_task(\n",
    "            task='clean_route',\n",
    "            classes=['intravenous', 'oral', 'other'],\n",
    "      )\n",
    "\n",
    "      pred = ehrm.predict(\n",
    "            pd.Series(['intravenous','via mouth', 'rectal']),\n",
    "      )\n",
    "\n",
    "      acc = ehrm.evaluate(\n",
    "            pd.Series(['intravenous','oral', 'other']),\n",
    "            pred\n",
    "      )\n",
    "\n",
    "      print(pred)\n",
    "      print(acc)\n",
    "\n"
   ]
  },
  {
   "cell_type": "code",
   "execution_count": null,
   "metadata": {},
   "outputs": [],
   "source": []
  },
  {
   "cell_type": "code",
   "execution_count": 5,
   "metadata": {},
   "outputs": [
    {
     "data": {
      "text/plain": [
       "(['oral', 'oral'], 'oral', 1.0)"
      ]
     },
     "execution_count": 5,
     "metadata": {},
     "output_type": "execute_result"
    }
   ],
   "source": [
    "pred[1]"
   ]
  },
  {
   "cell_type": "code",
   "execution_count": 9,
   "metadata": {},
   "outputs": [
    {
     "data": {
      "text/plain": [
       "0      ativan\n",
       "1    vancocin\n",
       "Name: drug, dtype: object"
      ]
     },
     "execution_count": 9,
     "metadata": {},
     "output_type": "execute_result"
    }
   ],
   "source": [
    "data = pd.DataFrame({\n",
    "            'drug': ['ativan','vancocin'],\n",
    "            'route': ['intravenous','via mouth']\n",
    "        })\n",
    "\n",
    "data.iloc[:,0]"
   ]
  },
  {
   "cell_type": "code",
   "execution_count": 4,
   "metadata": {},
   "outputs": [
    {
     "name": "stdout",
     "output_type": "stream",
     "text": [
      "0      sedative\n",
      "1    antibiotic\n",
      "dtype: object\n",
      "1.0\n"
     ]
    }
   ],
   "source": [
    "for m in models:\n",
    "      ehrm = EHRmonize(m, temperature=.1)\n",
    "\n",
    "      ehrm.config_prompting(\n",
    "            n_attempts=2,\n",
    "            agentic=False,\n",
    "            n_shots=0,\n",
    "      )\n",
    "\n",
    "      ehrm.set_task(\n",
    "            task='classify_drug',\n",
    "            classes=['antibiotic', 'sedative', 'other'],\n",
    "      )\n",
    "\n",
    "      pred = ehrm.predict(\n",
    "        pd.DataFrame({\n",
    "            'drug': ['ativan','vancocin'],\n",
    "            'route': ['intravenous','oral']\n",
    "        })\n",
    "      )\n",
    "\n",
    "      acc = ehrm.evaluate(\n",
    "            pd.Series(['sedative','antibiotic']),\n",
    "            pred\n",
    "      )\n",
    "\n",
    "      print(pred)\n",
    "      print(acc)\n",
    "\n"
   ]
  },
  {
   "cell_type": "code",
   "execution_count": 3,
   "metadata": {},
   "outputs": [
    {
     "name": "stdout",
     "output_type": "stream",
     "text": [
      "Model: meta.llama3-70b-instruct-v1:0\n",
      "Results: ['oral', 'oral', 'oral']\n",
      "Decision: oral\n",
      "Consistency: 1.00\n"
     ]
    }
   ],
   "source": [
    "possible_shots = [\n",
    "    \"An input route 'intraven' would be classified as 'intravenous'.\",\n",
    "    \"An input route 'intramuscul' would be classified as 'intramuscular'.\",\n",
    "    \"An input route 'rEcTal' would be classified as 'rectal'.\",\n",
    "    \"An input route 'oral' would be classified as 'oral'.\",\n",
    "    \"An input route 'po' would be classified as 'oral'.\",\n",
    "]\n",
    "\n",
    "for m in models:\n",
    "      ehrm = EHRmonize(m, temperature=.1)\n",
    "\n",
    "      ehrm.config(\n",
    "            n_attempts=3,\n",
    "            agentic=False,\n",
    "            n_shots=2,\n",
    "      )\n",
    "      \n",
    "      results, decision, consistency = ehrm.clean_route(\n",
    "            route='through the mouth',\n",
    "            classes=['intravenous', 'rectal', 'oral','other'],\n",
    "            possible_shots=possible_shots,\n",
    "          )\n",
    "\n",
    "      print(f\"Model: {m}\")\n",
    "      print(f\"Results: {results}\")\n",
    "      print(f\"Decision: {decision}\")\n",
    "      print(f\"Consistency: {consistency:.2f}\")\n",
    "    "
   ]
  },
  {
   "cell_type": "code",
   "execution_count": 4,
   "metadata": {},
   "outputs": [
    {
     "name": "stdout",
     "output_type": "stream",
     "text": [
      "Model: meta.llama3-70b-instruct-v1:0\n",
      "Results: ['lorazepam', 'lorazepam', 'lorazepam']\n",
      "Decision: lorazepam\n",
      "Consistency: 1.00\n"
     ]
    }
   ],
   "source": [
    "possible_shots = [\n",
    "    \"An input drugname 'vancocin' would be classified as 'vancomycin'.\",\n",
    "    \"An input drugname 'vancomycin' would be classified as 'vancomycin'.\",\n",
    "    \"An input drugname 'Toprol XL' would be classified as 'metroprolol'.\",\n",
    "    \"An input drugname 'Adderall' would be classified as 'amphetamine/dextroamphetamine'.\",\n",
    "    \"An input drugname 'Tylenol' would be classified as 'acetaminophen'.\",\n",
    "]\n",
    "\n",
    "for m in models:\n",
    "      ehrm = EHRmonize(m, temperature=.1)\n",
    "\n",
    "      ehrm.config(\n",
    "            n_attempts=3,\n",
    "            agentic=False,\n",
    "            n_shots=2,\n",
    "      )\n",
    "\n",
    "      results, decision, consistency = ehrm.get_generic_name(\n",
    "            drugname='ativan',\n",
    "            possible_shots=possible_shots,\n",
    "          )\n",
    "\n",
    "      print(f\"Model: {m}\")\n",
    "      print(f\"Results: {results}\")\n",
    "      print(f\"Decision: {decision}\")\n",
    "      print(f\"Consistency: {consistency:.2f}\")"
   ]
  },
  {
   "cell_type": "code",
   "execution_count": 5,
   "metadata": {},
   "outputs": [
    {
     "name": "stdout",
     "output_type": "stream",
     "text": [
      "Model: meta.llama3-70b-instruct-v1:0\n",
      "Results: ['other', 'other', 'other']\n",
      "Decision: other\n",
      "Consistency: 1.00\n"
     ]
    }
   ],
   "source": [
    "possible_shots = [\n",
    "    \"An input drugname 'vancocin' with a route 'intravenous' would be classified as 'antibiotic'.\",\n",
    "    \"An input drugname 'vancomycin' with a route 'intravenous' would be classified as 'antibiotic'.\",\n",
    "    \"An input drugname 'Toprol XL' with a route 'oral' would be classified as 'beta blocker'.\",\n",
    "    \"An input drugname 'Tylenol' with a route 'oral' would be classified as 'analgesic'.\",\n",
    "    \"An input drugname 'vasopressin' with a route 'intravenous' would be classified as 'vasopressor'.\",\n",
    "]\n",
    "\n",
    "for m in models:\n",
    "      ehrm = EHRmonize(m, temperature=.1)\n",
    "\n",
    "      ehrm.config(\n",
    "            n_attempts=3,\n",
    "            agentic=False,\n",
    "            n_shots=2,\n",
    "      )\n",
    "\n",
    "      results, decision, consistency = ehrm.classify_drug(\n",
    "            drugname='dobutamine',\n",
    "            route='intravenous',\n",
    "            classes=['antibiotic', 'anticoagulant', 'other'],\n",
    "            possible_shots=possible_shots,\n",
    "          )\n",
    "\n",
    "      print(f\"Model: {m}\")\n",
    "      print(f\"Results: {results}\")\n",
    "      print(f\"Decision: {decision}\")\n",
    "      print(f\"Consistency: {consistency:.2f}\")\n",
    "    "
   ]
  },
  {
   "cell_type": "code",
   "execution_count": null,
   "metadata": {},
   "outputs": [],
   "source": []
  }
 ],
 "metadata": {
  "kernelspec": {
   "display_name": "aiwonglab_ubuntu",
   "language": "python",
   "name": "python3"
  },
  "language_info": {
   "codemirror_mode": {
    "name": "ipython",
    "version": 3
   },
   "file_extension": ".py",
   "mimetype": "text/x-python",
   "name": "python",
   "nbconvert_exporter": "python",
   "pygments_lexer": "ipython3",
   "version": "3.12.2"
  }
 },
 "nbformat": 4,
 "nbformat_minor": 2
}
