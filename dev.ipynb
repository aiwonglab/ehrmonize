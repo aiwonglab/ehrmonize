{
 "cells": [
  {
   "cell_type": "code",
   "execution_count": 1,
   "metadata": {},
   "outputs": [],
   "source": [
    "from ehrmonize import EHRmonize\n",
    "import pandas as pd"
   ]
  },
  {
   "cell_type": "code",
   "execution_count": 2,
   "metadata": {},
   "outputs": [],
   "source": [
    "models = [\n",
    "    # 'gpt-3.5-turbo',\n",
    "    # 'gpt-4',\n",
    "    # 'gpt-4o',\n",
    "    # 'meta.llama2-13b-chat-v1',\n",
    "    # 'meta.llama2-70b-chat-v1',\n",
    "    'meta.llama3-70b-instruct-v1:0',\n",
    "    # 'anthropic.claude-v2:1',\n",
    "    # 'anthropic.claude-instant-v1',\n",
    "    # 'mistral.mistral-7b-instruct-v0:2',\n",
    "    # 'mistral.mixtral-8x7b-instruct-v0:1',\n",
    "]"
   ]
  },
  {
   "cell_type": "code",
   "execution_count": 5,
   "metadata": {},
   "outputs": [
    {
     "name": "stdout",
     "output_type": "stream",
     "text": [
      "0     lorazepam\n",
      "1    vancomycin\n",
      "dtype: object\n",
      "1.0\n"
     ]
    }
   ],
   "source": [
    "for m in models:\n",
    "      ehrm = EHRmonize(m, temperature=.1)\n",
    "\n",
    "      ehrm.config_prompting(\n",
    "            n_attempts=1,\n",
    "            agentic=False,\n",
    "            n_shots=0,\n",
    "      )\n",
    "\n",
    "      ehrm.set_task(\n",
    "            task='get_generic_name',\n",
    "      )\n",
    "\n",
    "      pred = ehrm.predict(\n",
    "            pd.Series(['ativan','vancocin']),\n",
    "      )\n",
    "\n",
    "      acc = ehrm.evaluate(\n",
    "            pd.Series(['lorazepam','vancomycin']),\n",
    "            pred\n",
    "      )\n",
    "\n",
    "      print(pred)\n",
    "      print(acc)\n",
    "\n"
   ]
  },
  {
   "cell_type": "code",
   "execution_count": 7,
   "metadata": {},
   "outputs": [
    {
     "name": "stdout",
     "output_type": "stream",
     "text": [
      "0                   none\n",
      "1                   none\n",
      "2    anatomical location\n",
      "dtype: object\n",
      "0.0\n"
     ]
    }
   ],
   "source": [
    "for m in models:\n",
    "      ehrm = EHRmonize(m, temperature=.1)\n",
    "\n",
    "      ehrm.config_prompting(\n",
    "            n_attempts=1,\n",
    "            agentic=False,\n",
    "            n_shots=0,\n",
    "      )\n",
    "\n",
    "      ehrm.set_task(\n",
    "            task='clean_route',\n",
    "            classes=['intravenous', 'oral', 'other'],\n",
    "      )\n",
    "\n",
    "      pred = ehrm.predict(\n",
    "            pd.Series(['intravenous','via mouth', 'rectal']),\n",
    "      )\n",
    "\n",
    "      acc = ehrm.evaluate(\n",
    "            pd.Series(['intravenous','oral', 'other']),\n",
    "            pred\n",
    "      )\n",
    "\n",
    "      print(pred)\n",
    "      print(acc)\n",
    "\n"
   ]
  },
  {
   "cell_type": "code",
   "execution_count": 9,
   "metadata": {},
   "outputs": [
    {
     "data": {
      "text/plain": [
       "0      ativan\n",
       "1    vancocin\n",
       "Name: drug, dtype: object"
      ]
     },
     "execution_count": 9,
     "metadata": {},
     "output_type": "execute_result"
    }
   ],
   "source": [
    "data = pd.DataFrame({\n",
    "            'drug': ['ativan','vancocin'],\n",
    "            'route': ['intravenous','via mouth']\n",
    "        })\n",
    "\n",
    "data.iloc[:,0]"
   ]
  },
  {
   "cell_type": "code",
   "execution_count": 3,
   "metadata": {},
   "outputs": [
    {
     "name": "stdout",
     "output_type": "stream",
     "text": [
      "0      sedative\n",
      "1    antibiotic\n",
      "dtype: object\n",
      "1.0\n"
     ]
    }
   ],
   "source": [
    "for m in models:\n",
    "      ehrm = EHRmonize(m, temperature=.1)\n",
    "\n",
    "      ehrm.config_prompting(\n",
    "            n_attempts=1,\n",
    "            agentic=False,\n",
    "            n_shots=0,\n",
    "      )\n",
    "\n",
    "      ehrm.set_task(\n",
    "            task='classify_drug',\n",
    "            classes=['antibiotic', 'sedative', 'other'],\n",
    "      )\n",
    "\n",
    "      pred = ehrm.predict(\n",
    "        pd.DataFrame({\n",
    "            'drug': ['ativan','vancocin'],\n",
    "            'route': ['intravenous','oral']\n",
    "        })\n",
    "      )\n",
    "\n",
    "      acc = ehrm.evaluate(\n",
    "            pd.Series(['sedative','antibiotic']),\n",
    "            pred\n",
    "      )\n",
    "\n",
    "      print(pred)\n",
    "      print(acc)\n",
    "\n"
   ]
  },
  {
   "cell_type": "code",
   "execution_count": 3,
   "metadata": {},
   "outputs": [
    {
     "name": "stdout",
     "output_type": "stream",
     "text": [
      "Model: meta.llama3-70b-instruct-v1:0\n",
      "Results: ['oral', 'oral', 'oral']\n",
      "Decision: oral\n",
      "Consistency: 1.00\n"
     ]
    }
   ],
   "source": [
    "possible_shots = [\n",
    "    \"An input route 'intraven' would be classified as 'intravenous'.\",\n",
    "    \"An input route 'intramuscul' would be classified as 'intramuscular'.\",\n",
    "    \"An input route 'rEcTal' would be classified as 'rectal'.\",\n",
    "    \"An input route 'oral' would be classified as 'oral'.\",\n",
    "    \"An input route 'po' would be classified as 'oral'.\",\n",
    "]\n",
    "\n",
    "for m in models:\n",
    "      ehrm = EHRmonize(m, temperature=.1)\n",
    "\n",
    "      ehrm.config(\n",
    "            n_attempts=3,\n",
    "            agentic=False,\n",
    "            n_shots=2,\n",
    "      )\n",
    "      \n",
    "      results, decision, consistency = ehrm.clean_route(\n",
    "            route='through the mouth',\n",
    "            classes=['intravenous', 'rectal', 'oral','other'],\n",
    "            possible_shots=possible_shots,\n",
    "          )\n",
    "\n",
    "      print(f\"Model: {m}\")\n",
    "      print(f\"Results: {results}\")\n",
    "      print(f\"Decision: {decision}\")\n",
    "      print(f\"Consistency: {consistency:.2f}\")\n",
    "    "
   ]
  },
  {
   "cell_type": "code",
   "execution_count": 4,
   "metadata": {},
   "outputs": [
    {
     "name": "stdout",
     "output_type": "stream",
     "text": [
      "Model: meta.llama3-70b-instruct-v1:0\n",
      "Results: ['lorazepam', 'lorazepam', 'lorazepam']\n",
      "Decision: lorazepam\n",
      "Consistency: 1.00\n"
     ]
    }
   ],
   "source": [
    "possible_shots = [\n",
    "    \"An input drugname 'vancocin' would be classified as 'vancomycin'.\",\n",
    "    \"An input drugname 'vancomycin' would be classified as 'vancomycin'.\",\n",
    "    \"An input drugname 'Toprol XL' would be classified as 'metroprolol'.\",\n",
    "    \"An input drugname 'Adderall' would be classified as 'amphetamine/dextroamphetamine'.\",\n",
    "    \"An input drugname 'Tylenol' would be classified as 'acetaminophen'.\",\n",
    "]\n",
    "\n",
    "for m in models:\n",
    "      ehrm = EHRmonize(m, temperature=.1)\n",
    "\n",
    "      ehrm.config(\n",
    "            n_attempts=3,\n",
    "            agentic=False,\n",
    "            n_shots=2,\n",
    "      )\n",
    "\n",
    "      results, decision, consistency = ehrm.get_generic_name(\n",
    "            drugname='ativan',\n",
    "            possible_shots=possible_shots,\n",
    "          )\n",
    "\n",
    "      print(f\"Model: {m}\")\n",
    "      print(f\"Results: {results}\")\n",
    "      print(f\"Decision: {decision}\")\n",
    "      print(f\"Consistency: {consistency:.2f}\")"
   ]
  },
  {
   "cell_type": "code",
   "execution_count": 5,
   "metadata": {},
   "outputs": [
    {
     "name": "stdout",
     "output_type": "stream",
     "text": [
      "Model: meta.llama3-70b-instruct-v1:0\n",
      "Results: ['other', 'other', 'other']\n",
      "Decision: other\n",
      "Consistency: 1.00\n"
     ]
    }
   ],
   "source": [
    "possible_shots = [\n",
    "    \"An input drugname 'vancocin' with a route 'intravenous' would be classified as 'antibiotic'.\",\n",
    "    \"An input drugname 'vancomycin' with a route 'intravenous' would be classified as 'antibiotic'.\",\n",
    "    \"An input drugname 'Toprol XL' with a route 'oral' would be classified as 'beta blocker'.\",\n",
    "    \"An input drugname 'Tylenol' with a route 'oral' would be classified as 'analgesic'.\",\n",
    "    \"An input drugname 'vasopressin' with a route 'intravenous' would be classified as 'vasopressor'.\",\n",
    "]\n",
    "\n",
    "for m in models:\n",
    "      ehrm = EHRmonize(m, temperature=.1)\n",
    "\n",
    "      ehrm.config(\n",
    "            n_attempts=3,\n",
    "            agentic=False,\n",
    "            n_shots=2,\n",
    "      )\n",
    "\n",
    "      results, decision, consistency = ehrm.classify_drug(\n",
    "            drugname='dobutamine',\n",
    "            route='intravenous',\n",
    "            classes=['antibiotic', 'anticoagulant', 'other'],\n",
    "            possible_shots=possible_shots,\n",
    "          )\n",
    "\n",
    "      print(f\"Model: {m}\")\n",
    "      print(f\"Results: {results}\")\n",
    "      print(f\"Decision: {decision}\")\n",
    "      print(f\"Consistency: {consistency:.2f}\")\n",
    "    "
   ]
  },
  {
   "cell_type": "code",
   "execution_count": null,
   "metadata": {},
   "outputs": [],
   "source": []
  }
 ],
 "metadata": {
  "kernelspec": {
   "display_name": "aiwonglab_ubuntu",
   "language": "python",
   "name": "python3"
  },
  "language_info": {
   "codemirror_mode": {
    "name": "ipython",
    "version": 3
   },
   "file_extension": ".py",
   "mimetype": "text/x-python",
   "name": "python",
   "nbconvert_exporter": "python",
   "pygments_lexer": "ipython3",
   "version": "3.12.2"
  }
 },
 "nbformat": 4,
 "nbformat_minor": 2
}
