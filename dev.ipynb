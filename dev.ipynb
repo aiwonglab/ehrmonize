{
 "cells": [
  {
   "cell_type": "code",
   "execution_count": 1,
   "metadata": {},
   "outputs": [],
   "source": [
    "from ehrmonize import EHRmonize\n",
    "import pandas as pd\n",
    "import os\n",
    "from dotenv import load_dotenv\n",
    "from sklearn.metrics import accuracy_score, recall_score, precision_score, f1_score"
   ]
  },
  {
   "cell_type": "code",
   "execution_count": 11,
   "metadata": {},
   "outputs": [
    {
     "name": "stdout",
     "output_type": "stream",
     "text": [
      "None\n"
     ]
    }
   ],
   "source": [
    "import boto3\n",
    "import json\n",
    "\n",
    "bedrock = boto3.client(service_name=\"bedrock-runtime\", region_name=\"us-east-1\")\n",
    "body = json.dumps({\n",
    "  \"max_tokens\": 256,\n",
    "  \"messages\": [{\"role\": \"user\", \"content\": \"Who are you?\"}],\n",
    "  \"anthropic_version\": \"bedrock-2023-05-31\"\n",
    "})\n",
    "\n",
    "response = bedrock.invoke_model(body=body, modelId=\"anthropic.claude-3-5-sonnet-20240620-v1:0\")\n",
    "\n",
    "response_body = json.loads(response.get(\"body\").read())\n",
    "print(response_body.get(\"completion\"))"
   ]
  },
  {
   "cell_type": "code",
   "execution_count": 3,
   "metadata": {},
   "outputs": [],
   "source": [
    "prompt = \"You are a well trained clinician doing data cleaning and harmonization. \\\n",
    "            You are given a raw drug name out of EHR, below, within squared brackets[]. \\\n",
    "            Please give me this drug's generic name in accordance with RxNorm standards: [0.9% Sodium Chloride] \\\n",
    "            Remove salt names unless there are multiple salts with different clinical effects. \\\n",
    "            Remove prescription strengths. \\\n",
    "            Include concentrations for intravenous fluids and dextrose solutions. \\\n",
    "            Please output nothing more than the generic name in lowercase.\""
   ]
  },
  {
   "cell_type": "code",
   "execution_count": 26,
   "metadata": {},
   "outputs": [
    {
     "data": {
      "text/plain": [
       "'sodium chloride 0.9%'"
      ]
     },
     "execution_count": 26,
     "metadata": {},
     "output_type": "execute_result"
    }
   ],
   "source": [
    "\n",
    "load_dotenv()\n",
    "\n",
    "aws_access_key_id = str(os.getenv('AWS_ACCESS_KEY_ID'))\n",
    "aws_secret_access_key = str(os.getenv('AWS_SECRET_ACCESS_KEY'))\n",
    "\n",
    "client = boto3.client(\n",
    "            service_name = 'bedrock-runtime',\n",
    "            region_name = 'us-east-1',\n",
    "            aws_access_key_id = aws_access_key_id,\n",
    "            aws_secret_access_key = aws_secret_access_key,\n",
    "        )\n",
    "\n",
    "body = json.dumps({\n",
    "    \"max_tokens\": 32, \n",
    "    \"messages\": [{\"role\": \"user\", \"content\": prompt}],\n",
    "    \"temperature\": 0.1,\n",
    "    \"anthropic_version\": \"bedrock-2023-05-31\"\n",
    "\n",
    "})\n",
    "\n",
    "response = bedrock.invoke_model(body = body,\n",
    "                                    modelId = \"anthropic.claude-3-5-sonnet-20240620-v1:0\",\n",
    "                                            accept = 'application/json',\n",
    "                                            contentType =  'application/json'\n",
    "                                    )\n",
    "\n",
    "response_body = json.loads(response.get('body').read())\n",
    "\n",
    "response_body.get('content')[0]['text']"
   ]
  },
  {
   "cell_type": "code",
   "execution_count": 4,
   "metadata": {},
   "outputs": [
    {
     "ename": "NameError",
     "evalue": "name 'invoke_bedrock_claude' is not defined",
     "output_type": "error",
     "traceback": [
      "\u001b[0;31m---------------------------------------------------------------------------\u001b[0m",
      "\u001b[0;31mNameError\u001b[0m                                 Traceback (most recent call last)",
      "Cell \u001b[0;32mIn[4], line 1\u001b[0m\n\u001b[0;32m----> 1\u001b[0m invoke_bedrock_claude(\u001b[38;5;124m'\u001b[39m\u001b[38;5;124mprompt\u001b[39m\u001b[38;5;124m'\u001b[39m)\n",
      "\u001b[0;31mNameError\u001b[0m: name 'invoke_bedrock_claude' is not defined"
     ]
    }
   ],
   "source": [
    "invoke_bedrock_claude('prompt')"
   ]
  },
  {
   "cell_type": "code",
   "execution_count": 5,
   "metadata": {},
   "outputs": [
    {
     "data": {
      "text/plain": [
       "'sodium chloride 0.9%'"
      ]
     },
     "execution_count": 5,
     "metadata": {},
     "output_type": "execute_result"
    }
   ],
   "source": [
    "ehrm = EHRmonize(\"anthropic.claude-3-5-sonnet-20240620-v1:0\", temperature=.1)\n",
    "\n",
    "ehrm._invoke_bedrock_claude(prompt)"
   ]
  },
  {
   "cell_type": "code",
   "execution_count": 2,
   "metadata": {},
   "outputs": [],
   "source": [
    "models = [\n",
    "    # 'gpt-3.5-turbo',\n",
    "    # 'gpt-4',\n",
    "    # 'gpt-4o',\n",
    "    # 'meta.llama2-13b-chat-v1',\n",
    "    # 'meta.llama2-70b-chat-v1',\n",
    "    # 'meta.llama3-70b-instruct-v1:0',\n",
    "    # 'anthropic.claude-v2:1',\n",
    "    # 'anthropic.claude-instant-v1',\n",
    "    # 'mistral.mistral-7b-instruct-v0:2',\n",
    "    # 'mistral.mixtral-8x7b-instruct-v0:1',\n",
    "    'anthropic.claude-3-5-sonnet-20240620-v1:0'\n",
    "]"
   ]
  },
  {
   "cell_type": "code",
   "execution_count": 3,
   "metadata": {},
   "outputs": [
    {
     "ename": "ValidationException",
     "evalue": "An error occurred (ValidationException) when calling the InvokeModel operation: \"claude-3-5-sonnet-20240620\" is not supported on this API. Please use the Messages API instead.",
     "output_type": "error",
     "traceback": [
      "\u001b[0;31m---------------------------------------------------------------------------\u001b[0m",
      "\u001b[0;31mValidationException\u001b[0m                       Traceback (most recent call last)",
      "Cell \u001b[0;32mIn[3], line 15\u001b[0m\n\u001b[1;32m      4\u001b[0m ehrm\u001b[38;5;241m.\u001b[39mconfig_prompting(\n\u001b[1;32m      5\u001b[0m       n_attempts\u001b[38;5;241m=\u001b[39m\u001b[38;5;241m2\u001b[39m,\n\u001b[1;32m      6\u001b[0m       agentic\u001b[38;5;241m=\u001b[39m\u001b[38;5;28;01mFalse\u001b[39;00m,\n\u001b[1;32m      7\u001b[0m       n_shots\u001b[38;5;241m=\u001b[39m\u001b[38;5;241m0\u001b[39m,\n\u001b[1;32m      8\u001b[0m )\n\u001b[1;32m     10\u001b[0m ehrm\u001b[38;5;241m.\u001b[39mset_task(\n\u001b[1;32m     11\u001b[0m       task\u001b[38;5;241m=\u001b[39m\u001b[38;5;124m'\u001b[39m\u001b[38;5;124mone_hot_drug_classification\u001b[39m\u001b[38;5;124m'\u001b[39m,\n\u001b[1;32m     12\u001b[0m       classif\u001b[38;5;241m=\u001b[39m\u001b[38;5;124m'\u001b[39m\u001b[38;5;124mantibiotic\u001b[39m\u001b[38;5;124m'\u001b[39m\n\u001b[1;32m     13\u001b[0m )\n\u001b[0;32m---> 15\u001b[0m pred \u001b[38;5;241m=\u001b[39m ehrm\u001b[38;5;241m.\u001b[39mpredict(\n\u001b[1;32m     16\u001b[0m       pd\u001b[38;5;241m.\u001b[39mDataFrame({\n\u001b[1;32m     17\u001b[0m       \u001b[38;5;124m'\u001b[39m\u001b[38;5;124mdrug\u001b[39m\u001b[38;5;124m'\u001b[39m: [\u001b[38;5;124m'\u001b[39m\u001b[38;5;124mativan\u001b[39m\u001b[38;5;124m'\u001b[39m,\u001b[38;5;124m'\u001b[39m\u001b[38;5;124mvancocin\u001b[39m\u001b[38;5;124m'\u001b[39m],\n\u001b[1;32m     18\u001b[0m       \u001b[38;5;124m'\u001b[39m\u001b[38;5;124mroute\u001b[39m\u001b[38;5;124m'\u001b[39m: [\u001b[38;5;124m'\u001b[39m\u001b[38;5;124mintravenous\u001b[39m\u001b[38;5;124m'\u001b[39m,\u001b[38;5;124m'\u001b[39m\u001b[38;5;124moral\u001b[39m\u001b[38;5;124m'\u001b[39m]\n\u001b[1;32m     19\u001b[0m   })\n\u001b[1;32m     20\u001b[0m )[\u001b[38;5;124m'\u001b[39m\u001b[38;5;124mpred\u001b[39m\u001b[38;5;124m'\u001b[39m]\n\u001b[1;32m     22\u001b[0m acc \u001b[38;5;241m=\u001b[39m accuracy_score(\n\u001b[1;32m     23\u001b[0m       pd\u001b[38;5;241m.\u001b[39mSeries([\u001b[38;5;124m\"\u001b[39m\u001b[38;5;124m0\u001b[39m\u001b[38;5;124m\"\u001b[39m,\u001b[38;5;124m\"\u001b[39m\u001b[38;5;124m1\u001b[39m\u001b[38;5;124m\"\u001b[39m]),\n\u001b[1;32m     24\u001b[0m       pred\n\u001b[1;32m     25\u001b[0m )\n\u001b[1;32m     27\u001b[0m \u001b[38;5;28mprint\u001b[39m(pred)\n",
      "File \u001b[0;32m~/Documents/ehrmonize/ehrmonize/ehrmonize.py:611\u001b[0m, in \u001b[0;36mEHRmonize.predict\u001b[0;34m(self, input)\u001b[0m\n\u001b[1;32m    608\u001b[0m \u001b[38;5;28;01mif\u001b[39;00m \u001b[38;5;129;01mnot\u001b[39;00m \u001b[38;5;28misinstance\u001b[39m(\u001b[38;5;28minput\u001b[39m, pd\u001b[38;5;241m.\u001b[39mDataFrame):\n\u001b[1;32m    609\u001b[0m     \u001b[38;5;28;01mraise\u001b[39;00m \u001b[38;5;167;01mValueError\u001b[39;00m(\u001b[38;5;124m'\u001b[39m\u001b[38;5;124minput must be a pandas DataFrame\u001b[39m\u001b[38;5;124m'\u001b[39m)\n\u001b[0;32m--> 611\u001b[0m res \u001b[38;5;241m=\u001b[39m \u001b[38;5;28minput\u001b[39m\u001b[38;5;241m.\u001b[39mapply(\n\u001b[1;32m    612\u001b[0m     \u001b[38;5;28;01mlambda\u001b[39;00m row: \u001b[38;5;28mself\u001b[39m\u001b[38;5;241m.\u001b[39mone_hot_drug_classification(\n\u001b[1;32m    613\u001b[0m         drugname\u001b[38;5;241m=\u001b[39mrow\u001b[38;5;241m.\u001b[39miloc[\u001b[38;5;241m0\u001b[39m],\n\u001b[1;32m    614\u001b[0m         route\u001b[38;5;241m=\u001b[39mrow\u001b[38;5;241m.\u001b[39miloc[\u001b[38;5;241m1\u001b[39m],\n\u001b[1;32m    615\u001b[0m         classif\u001b[38;5;241m=\u001b[39m\u001b[38;5;28mself\u001b[39m\u001b[38;5;241m.\u001b[39mkwargs\u001b[38;5;241m.\u001b[39mget(\u001b[38;5;124m'\u001b[39m\u001b[38;5;124mclassif\u001b[39m\u001b[38;5;124m'\u001b[39m),\n\u001b[1;32m    616\u001b[0m         expanded_classif\u001b[38;5;241m=\u001b[39m\u001b[38;5;28mself\u001b[39m\u001b[38;5;241m.\u001b[39mkwargs\u001b[38;5;241m.\u001b[39mget(\u001b[38;5;124m'\u001b[39m\u001b[38;5;124mexpanded_classif\u001b[39m\u001b[38;5;124m'\u001b[39m),\n\u001b[1;32m    617\u001b[0m         possible_shots\u001b[38;5;241m=\u001b[39m\u001b[38;5;28mself\u001b[39m\u001b[38;5;241m.\u001b[39mkwargs\u001b[38;5;241m.\u001b[39mget(\u001b[38;5;124m'\u001b[39m\u001b[38;5;124mpossible_shots\u001b[39m\u001b[38;5;124m'\u001b[39m),\n\u001b[1;32m    618\u001b[0m     ),\n\u001b[1;32m    619\u001b[0m     axis\u001b[38;5;241m=\u001b[39m\u001b[38;5;241m1\u001b[39m\n\u001b[1;32m    620\u001b[0m )\n\u001b[1;32m    622\u001b[0m \u001b[38;5;28;01mif\u001b[39;00m \u001b[38;5;28mself\u001b[39m\u001b[38;5;241m.\u001b[39mn_attempts \u001b[38;5;241m==\u001b[39m \u001b[38;5;241m1\u001b[39m:\n\u001b[1;32m    623\u001b[0m     \u001b[38;5;28;01mreturn\u001b[39;00m res\n",
      "File \u001b[0;32m/opt/anaconda3/envs/ml/lib/python3.12/site-packages/pandas/core/frame.py:10374\u001b[0m, in \u001b[0;36mDataFrame.apply\u001b[0;34m(self, func, axis, raw, result_type, args, by_row, engine, engine_kwargs, **kwargs)\u001b[0m\n\u001b[1;32m  10360\u001b[0m \u001b[38;5;28;01mfrom\u001b[39;00m \u001b[38;5;21;01mpandas\u001b[39;00m\u001b[38;5;21;01m.\u001b[39;00m\u001b[38;5;21;01mcore\u001b[39;00m\u001b[38;5;21;01m.\u001b[39;00m\u001b[38;5;21;01mapply\u001b[39;00m \u001b[38;5;28;01mimport\u001b[39;00m frame_apply\n\u001b[1;32m  10362\u001b[0m op \u001b[38;5;241m=\u001b[39m frame_apply(\n\u001b[1;32m  10363\u001b[0m     \u001b[38;5;28mself\u001b[39m,\n\u001b[1;32m  10364\u001b[0m     func\u001b[38;5;241m=\u001b[39mfunc,\n\u001b[0;32m   (...)\u001b[0m\n\u001b[1;32m  10372\u001b[0m     kwargs\u001b[38;5;241m=\u001b[39mkwargs,\n\u001b[1;32m  10373\u001b[0m )\n\u001b[0;32m> 10374\u001b[0m \u001b[38;5;28;01mreturn\u001b[39;00m op\u001b[38;5;241m.\u001b[39mapply()\u001b[38;5;241m.\u001b[39m__finalize__(\u001b[38;5;28mself\u001b[39m, method\u001b[38;5;241m=\u001b[39m\u001b[38;5;124m\"\u001b[39m\u001b[38;5;124mapply\u001b[39m\u001b[38;5;124m\"\u001b[39m)\n",
      "File \u001b[0;32m/opt/anaconda3/envs/ml/lib/python3.12/site-packages/pandas/core/apply.py:916\u001b[0m, in \u001b[0;36mFrameApply.apply\u001b[0;34m(self)\u001b[0m\n\u001b[1;32m    913\u001b[0m \u001b[38;5;28;01melif\u001b[39;00m \u001b[38;5;28mself\u001b[39m\u001b[38;5;241m.\u001b[39mraw:\n\u001b[1;32m    914\u001b[0m     \u001b[38;5;28;01mreturn\u001b[39;00m \u001b[38;5;28mself\u001b[39m\u001b[38;5;241m.\u001b[39mapply_raw(engine\u001b[38;5;241m=\u001b[39m\u001b[38;5;28mself\u001b[39m\u001b[38;5;241m.\u001b[39mengine, engine_kwargs\u001b[38;5;241m=\u001b[39m\u001b[38;5;28mself\u001b[39m\u001b[38;5;241m.\u001b[39mengine_kwargs)\n\u001b[0;32m--> 916\u001b[0m \u001b[38;5;28;01mreturn\u001b[39;00m \u001b[38;5;28mself\u001b[39m\u001b[38;5;241m.\u001b[39mapply_standard()\n",
      "File \u001b[0;32m/opt/anaconda3/envs/ml/lib/python3.12/site-packages/pandas/core/apply.py:1063\u001b[0m, in \u001b[0;36mFrameApply.apply_standard\u001b[0;34m(self)\u001b[0m\n\u001b[1;32m   1061\u001b[0m \u001b[38;5;28;01mdef\u001b[39;00m \u001b[38;5;21mapply_standard\u001b[39m(\u001b[38;5;28mself\u001b[39m):\n\u001b[1;32m   1062\u001b[0m     \u001b[38;5;28;01mif\u001b[39;00m \u001b[38;5;28mself\u001b[39m\u001b[38;5;241m.\u001b[39mengine \u001b[38;5;241m==\u001b[39m \u001b[38;5;124m\"\u001b[39m\u001b[38;5;124mpython\u001b[39m\u001b[38;5;124m\"\u001b[39m:\n\u001b[0;32m-> 1063\u001b[0m         results, res_index \u001b[38;5;241m=\u001b[39m \u001b[38;5;28mself\u001b[39m\u001b[38;5;241m.\u001b[39mapply_series_generator()\n\u001b[1;32m   1064\u001b[0m     \u001b[38;5;28;01melse\u001b[39;00m:\n\u001b[1;32m   1065\u001b[0m         results, res_index \u001b[38;5;241m=\u001b[39m \u001b[38;5;28mself\u001b[39m\u001b[38;5;241m.\u001b[39mapply_series_numba()\n",
      "File \u001b[0;32m/opt/anaconda3/envs/ml/lib/python3.12/site-packages/pandas/core/apply.py:1081\u001b[0m, in \u001b[0;36mFrameApply.apply_series_generator\u001b[0;34m(self)\u001b[0m\n\u001b[1;32m   1078\u001b[0m \u001b[38;5;28;01mwith\u001b[39;00m option_context(\u001b[38;5;124m\"\u001b[39m\u001b[38;5;124mmode.chained_assignment\u001b[39m\u001b[38;5;124m\"\u001b[39m, \u001b[38;5;28;01mNone\u001b[39;00m):\n\u001b[1;32m   1079\u001b[0m     \u001b[38;5;28;01mfor\u001b[39;00m i, v \u001b[38;5;129;01min\u001b[39;00m \u001b[38;5;28menumerate\u001b[39m(series_gen):\n\u001b[1;32m   1080\u001b[0m         \u001b[38;5;66;03m# ignore SettingWithCopy here in case the user mutates\u001b[39;00m\n\u001b[0;32m-> 1081\u001b[0m         results[i] \u001b[38;5;241m=\u001b[39m \u001b[38;5;28mself\u001b[39m\u001b[38;5;241m.\u001b[39mfunc(v, \u001b[38;5;241m*\u001b[39m\u001b[38;5;28mself\u001b[39m\u001b[38;5;241m.\u001b[39margs, \u001b[38;5;241m*\u001b[39m\u001b[38;5;241m*\u001b[39m\u001b[38;5;28mself\u001b[39m\u001b[38;5;241m.\u001b[39mkwargs)\n\u001b[1;32m   1082\u001b[0m         \u001b[38;5;28;01mif\u001b[39;00m \u001b[38;5;28misinstance\u001b[39m(results[i], ABCSeries):\n\u001b[1;32m   1083\u001b[0m             \u001b[38;5;66;03m# If we have a view on v, we need to make a copy because\u001b[39;00m\n\u001b[1;32m   1084\u001b[0m             \u001b[38;5;66;03m#  series_generator will swap out the underlying data\u001b[39;00m\n\u001b[1;32m   1085\u001b[0m             results[i] \u001b[38;5;241m=\u001b[39m results[i]\u001b[38;5;241m.\u001b[39mcopy(deep\u001b[38;5;241m=\u001b[39m\u001b[38;5;28;01mFalse\u001b[39;00m)\n",
      "File \u001b[0;32m~/Documents/ehrmonize/ehrmonize/ehrmonize.py:612\u001b[0m, in \u001b[0;36mEHRmonize.predict.<locals>.<lambda>\u001b[0;34m(row)\u001b[0m\n\u001b[1;32m    608\u001b[0m \u001b[38;5;28;01mif\u001b[39;00m \u001b[38;5;129;01mnot\u001b[39;00m \u001b[38;5;28misinstance\u001b[39m(\u001b[38;5;28minput\u001b[39m, pd\u001b[38;5;241m.\u001b[39mDataFrame):\n\u001b[1;32m    609\u001b[0m     \u001b[38;5;28;01mraise\u001b[39;00m \u001b[38;5;167;01mValueError\u001b[39;00m(\u001b[38;5;124m'\u001b[39m\u001b[38;5;124minput must be a pandas DataFrame\u001b[39m\u001b[38;5;124m'\u001b[39m)\n\u001b[1;32m    611\u001b[0m res \u001b[38;5;241m=\u001b[39m \u001b[38;5;28minput\u001b[39m\u001b[38;5;241m.\u001b[39mapply(\n\u001b[0;32m--> 612\u001b[0m     \u001b[38;5;28;01mlambda\u001b[39;00m row: \u001b[38;5;28mself\u001b[39m\u001b[38;5;241m.\u001b[39mone_hot_drug_classification(\n\u001b[1;32m    613\u001b[0m         drugname\u001b[38;5;241m=\u001b[39mrow\u001b[38;5;241m.\u001b[39miloc[\u001b[38;5;241m0\u001b[39m],\n\u001b[1;32m    614\u001b[0m         route\u001b[38;5;241m=\u001b[39mrow\u001b[38;5;241m.\u001b[39miloc[\u001b[38;5;241m1\u001b[39m],\n\u001b[1;32m    615\u001b[0m         classif\u001b[38;5;241m=\u001b[39m\u001b[38;5;28mself\u001b[39m\u001b[38;5;241m.\u001b[39mkwargs\u001b[38;5;241m.\u001b[39mget(\u001b[38;5;124m'\u001b[39m\u001b[38;5;124mclassif\u001b[39m\u001b[38;5;124m'\u001b[39m),\n\u001b[1;32m    616\u001b[0m         expanded_classif\u001b[38;5;241m=\u001b[39m\u001b[38;5;28mself\u001b[39m\u001b[38;5;241m.\u001b[39mkwargs\u001b[38;5;241m.\u001b[39mget(\u001b[38;5;124m'\u001b[39m\u001b[38;5;124mexpanded_classif\u001b[39m\u001b[38;5;124m'\u001b[39m),\n\u001b[1;32m    617\u001b[0m         possible_shots\u001b[38;5;241m=\u001b[39m\u001b[38;5;28mself\u001b[39m\u001b[38;5;241m.\u001b[39mkwargs\u001b[38;5;241m.\u001b[39mget(\u001b[38;5;124m'\u001b[39m\u001b[38;5;124mpossible_shots\u001b[39m\u001b[38;5;124m'\u001b[39m),\n\u001b[1;32m    618\u001b[0m     ),\n\u001b[1;32m    619\u001b[0m     axis\u001b[38;5;241m=\u001b[39m\u001b[38;5;241m1\u001b[39m\n\u001b[1;32m    620\u001b[0m )\n\u001b[1;32m    622\u001b[0m \u001b[38;5;28;01mif\u001b[39;00m \u001b[38;5;28mself\u001b[39m\u001b[38;5;241m.\u001b[39mn_attempts \u001b[38;5;241m==\u001b[39m \u001b[38;5;241m1\u001b[39m:\n\u001b[1;32m    623\u001b[0m     \u001b[38;5;28;01mreturn\u001b[39;00m res\n",
      "File \u001b[0;32m~/Documents/ehrmonize/ehrmonize/ehrmonize.py:452\u001b[0m, in \u001b[0;36mEHRmonize.one_hot_drug_classification\u001b[0;34m(self, drugname, route, classif, expanded_classif, possible_shots)\u001b[0m\n\u001b[1;32m    449\u001b[0m results \u001b[38;5;241m=\u001b[39m []\n\u001b[1;32m    451\u001b[0m \u001b[38;5;28;01mfor\u001b[39;00m i \u001b[38;5;129;01min\u001b[39;00m \u001b[38;5;28mrange\u001b[39m(\u001b[38;5;28mself\u001b[39m\u001b[38;5;241m.\u001b[39mn_attempts):\n\u001b[0;32m--> 452\u001b[0m     results\u001b[38;5;241m.\u001b[39mappend(\u001b[38;5;28mself\u001b[39m\u001b[38;5;241m.\u001b[39m_get_one_hot_drug_classification(drugname, route,\n\u001b[1;32m    453\u001b[0m                                                          classif, expanded_classif, possible_shots))\n\u001b[1;32m    455\u001b[0m \u001b[38;5;28;01mif\u001b[39;00m \u001b[38;5;28mself\u001b[39m\u001b[38;5;241m.\u001b[39mn_attempts \u001b[38;5;241m==\u001b[39m \u001b[38;5;241m1\u001b[39m:\n\u001b[1;32m    456\u001b[0m     \u001b[38;5;28;01mreturn\u001b[39;00m results[\u001b[38;5;241m0\u001b[39m]\n",
      "File \u001b[0;32m~/Documents/ehrmonize/ehrmonize/ehrmonize.py:441\u001b[0m, in \u001b[0;36mEHRmonize._get_one_hot_drug_classification\u001b[0;34m(self, drugname, route, classif, expanded_classif, possible_shots)\u001b[0m\n\u001b[1;32m    437\u001b[0m \u001b[38;5;28;01mdef\u001b[39;00m \u001b[38;5;21m_get_one_hot_drug_classification\u001b[39m(\u001b[38;5;28mself\u001b[39m, drugname, route, classif, expanded_classif, possible_shots):\n\u001b[1;32m    439\u001b[0m         prompt \u001b[38;5;241m=\u001b[39m \u001b[38;5;28mself\u001b[39m\u001b[38;5;241m.\u001b[39m_generate_one_hot_drug_classification(drugname, route, classif, expanded_classif, possible_shots)\n\u001b[0;32m--> 441\u001b[0m         output \u001b[38;5;241m=\u001b[39m \u001b[38;5;28mself\u001b[39m\u001b[38;5;241m.\u001b[39m_prompt(\n\u001b[1;32m    442\u001b[0m             prompt\u001b[38;5;241m=\u001b[39m(\u001b[38;5;124m'\u001b[39m\u001b[38;5;130;01m\\n\u001b[39;00m\u001b[38;5;124mHuman: \u001b[39m\u001b[38;5;124m'\u001b[39m \u001b[38;5;241m+\u001b[39m prompt \u001b[38;5;241m+\u001b[39m \u001b[38;5;124m'\u001b[39m\u001b[38;5;130;01m\\n\u001b[39;00m\u001b[38;5;124mAssistant:\u001b[39m\u001b[38;5;124m'\u001b[39m)\n\u001b[1;32m    443\u001b[0m         )\n\u001b[1;32m    445\u001b[0m         \u001b[38;5;28;01mreturn\u001b[39;00m \u001b[38;5;28mself\u001b[39m\u001b[38;5;241m.\u001b[39m_clean_text(output)\n",
      "File \u001b[0;32m~/Documents/ehrmonize/ehrmonize/ehrmonize.py:178\u001b[0m, in \u001b[0;36mEHRmonize._prompt\u001b[0;34m(self, prompt)\u001b[0m\n\u001b[1;32m    174\u001b[0m     \u001b[38;5;28;01mreturn\u001b[39;00m \u001b[38;5;28mself\u001b[39m\u001b[38;5;241m.\u001b[39m_clean_text(text)\n\u001b[1;32m    176\u001b[0m \u001b[38;5;28;01melif\u001b[39;00m \u001b[38;5;28mself\u001b[39m\u001b[38;5;241m.\u001b[39mmodel_id \u001b[38;5;129;01min\u001b[39;00m [\u001b[38;5;124m'\u001b[39m\u001b[38;5;124manthropic.claude-v2:1\u001b[39m\u001b[38;5;124m'\u001b[39m, \u001b[38;5;124m'\u001b[39m\u001b[38;5;124manthropic.claude-instant-v1\u001b[39m\u001b[38;5;124m'\u001b[39m, \u001b[38;5;124m'\u001b[39m\u001b[38;5;124manthropic.claude-3-5-sonnet-20240620-v1:0\u001b[39m\u001b[38;5;124m'\u001b[39m]:\n\u001b[1;32m    177\u001b[0m     \u001b[38;5;66;03m# try:\u001b[39;00m\n\u001b[0;32m--> 178\u001b[0m     text \u001b[38;5;241m=\u001b[39m \u001b[38;5;28mself\u001b[39m\u001b[38;5;241m.\u001b[39m_invoke_bedrock_claude(prompt\u001b[38;5;241m=\u001b[39mprompt)\n\u001b[1;32m    179\u001b[0m     \u001b[38;5;66;03m# except Exception as e:\u001b[39;00m\n\u001b[1;32m    180\u001b[0m     \u001b[38;5;66;03m#     text = 'API failed'\u001b[39;00m\n\u001b[1;32m    181\u001b[0m     \u001b[38;5;66;03m#     print(text + ', proceeding...')\u001b[39;00m\n\u001b[1;32m    184\u001b[0m     \u001b[38;5;28;01mreturn\u001b[39;00m \u001b[38;5;28mself\u001b[39m\u001b[38;5;241m.\u001b[39m_clean_text(text)\n",
      "File \u001b[0;32m~/Documents/ehrmonize/ehrmonize/ehrmonize.py:102\u001b[0m, in \u001b[0;36mEHRmonize._invoke_bedrock_claude\u001b[0;34m(self, prompt)\u001b[0m\n\u001b[1;32m     92\u001b[0m \u001b[38;5;28;01mdef\u001b[39;00m \u001b[38;5;21m_invoke_bedrock_claude\u001b[39m(\u001b[38;5;28mself\u001b[39m,\n\u001b[1;32m     93\u001b[0m                     prompt):\n\u001b[1;32m     95\u001b[0m     body \u001b[38;5;241m=\u001b[39m json\u001b[38;5;241m.\u001b[39mdumps({\n\u001b[1;32m     96\u001b[0m         \u001b[38;5;124m\"\u001b[39m\u001b[38;5;124mprompt\u001b[39m\u001b[38;5;124m\"\u001b[39m: \u001b[38;5;124m\"\u001b[39m\u001b[38;5;130;01m\\n\u001b[39;00m\u001b[38;5;130;01m\\n\u001b[39;00m\u001b[38;5;124mHuman:\u001b[39m\u001b[38;5;124m\"\u001b[39m \u001b[38;5;241m+\u001b[39m prompt \u001b[38;5;241m+\u001b[39m \u001b[38;5;124m\"\u001b[39m\u001b[38;5;130;01m\\n\u001b[39;00m\u001b[38;5;130;01m\\n\u001b[39;00m\u001b[38;5;124mAssistant: \u001b[39m\u001b[38;5;124m\"\u001b[39m,\n\u001b[1;32m     97\u001b[0m         \u001b[38;5;124m\"\u001b[39m\u001b[38;5;124mmax_tokens_to_sample\u001b[39m\u001b[38;5;124m\"\u001b[39m: \u001b[38;5;28mself\u001b[39m\u001b[38;5;241m.\u001b[39mmax_tokens, \n\u001b[1;32m     98\u001b[0m         \u001b[38;5;124m\"\u001b[39m\u001b[38;5;124mtemperature\u001b[39m\u001b[38;5;124m\"\u001b[39m: \u001b[38;5;28mself\u001b[39m\u001b[38;5;241m.\u001b[39mtemperature,\n\u001b[1;32m     99\u001b[0m         \u001b[38;5;124m\"\u001b[39m\u001b[38;5;124mtop_p\u001b[39m\u001b[38;5;124m\"\u001b[39m: \u001b[38;5;241m0.9\u001b[39m,\n\u001b[1;32m    100\u001b[0m     })\n\u001b[0;32m--> 102\u001b[0m     response \u001b[38;5;241m=\u001b[39m \u001b[38;5;28mself\u001b[39m\u001b[38;5;241m.\u001b[39mclient\u001b[38;5;241m.\u001b[39minvoke_model(body \u001b[38;5;241m=\u001b[39m body,\n\u001b[1;32m    103\u001b[0m                                         modelId \u001b[38;5;241m=\u001b[39m \u001b[38;5;28mself\u001b[39m\u001b[38;5;241m.\u001b[39mmodel_id,\n\u001b[1;32m    104\u001b[0m                                         accept \u001b[38;5;241m=\u001b[39m \u001b[38;5;124m'\u001b[39m\u001b[38;5;124mapplication/json\u001b[39m\u001b[38;5;124m'\u001b[39m,\n\u001b[1;32m    105\u001b[0m                                         contentType \u001b[38;5;241m=\u001b[39m  \u001b[38;5;124m'\u001b[39m\u001b[38;5;124mapplication/json\u001b[39m\u001b[38;5;124m'\u001b[39m\n\u001b[1;32m    106\u001b[0m                                         )\n\u001b[1;32m    107\u001b[0m     response_body \u001b[38;5;241m=\u001b[39m json\u001b[38;5;241m.\u001b[39mloads(response\u001b[38;5;241m.\u001b[39mget(\u001b[38;5;124m'\u001b[39m\u001b[38;5;124mbody\u001b[39m\u001b[38;5;124m'\u001b[39m)\u001b[38;5;241m.\u001b[39mread())\n\u001b[1;32m    109\u001b[0m     \u001b[38;5;28;01mreturn\u001b[39;00m response_body\u001b[38;5;241m.\u001b[39mget(\u001b[38;5;124m'\u001b[39m\u001b[38;5;124mcompletion\u001b[39m\u001b[38;5;124m'\u001b[39m)\n",
      "File \u001b[0;32m/opt/anaconda3/envs/ml/lib/python3.12/site-packages/botocore/client.py:565\u001b[0m, in \u001b[0;36mClientCreator._create_api_method.<locals>._api_call\u001b[0;34m(self, *args, **kwargs)\u001b[0m\n\u001b[1;32m    561\u001b[0m     \u001b[38;5;28;01mraise\u001b[39;00m \u001b[38;5;167;01mTypeError\u001b[39;00m(\n\u001b[1;32m    562\u001b[0m         \u001b[38;5;124mf\u001b[39m\u001b[38;5;124m\"\u001b[39m\u001b[38;5;132;01m{\u001b[39;00mpy_operation_name\u001b[38;5;132;01m}\u001b[39;00m\u001b[38;5;124m() only accepts keyword arguments.\u001b[39m\u001b[38;5;124m\"\u001b[39m\n\u001b[1;32m    563\u001b[0m     )\n\u001b[1;32m    564\u001b[0m \u001b[38;5;66;03m# The \"self\" in this scope is referring to the BaseClient.\u001b[39;00m\n\u001b[0;32m--> 565\u001b[0m \u001b[38;5;28;01mreturn\u001b[39;00m \u001b[38;5;28mself\u001b[39m\u001b[38;5;241m.\u001b[39m_make_api_call(operation_name, kwargs)\n",
      "File \u001b[0;32m/opt/anaconda3/envs/ml/lib/python3.12/site-packages/botocore/client.py:1021\u001b[0m, in \u001b[0;36mBaseClient._make_api_call\u001b[0;34m(self, operation_name, api_params)\u001b[0m\n\u001b[1;32m   1017\u001b[0m     error_code \u001b[38;5;241m=\u001b[39m error_info\u001b[38;5;241m.\u001b[39mget(\u001b[38;5;124m\"\u001b[39m\u001b[38;5;124mQueryErrorCode\u001b[39m\u001b[38;5;124m\"\u001b[39m) \u001b[38;5;129;01mor\u001b[39;00m error_info\u001b[38;5;241m.\u001b[39mget(\n\u001b[1;32m   1018\u001b[0m         \u001b[38;5;124m\"\u001b[39m\u001b[38;5;124mCode\u001b[39m\u001b[38;5;124m\"\u001b[39m\n\u001b[1;32m   1019\u001b[0m     )\n\u001b[1;32m   1020\u001b[0m     error_class \u001b[38;5;241m=\u001b[39m \u001b[38;5;28mself\u001b[39m\u001b[38;5;241m.\u001b[39mexceptions\u001b[38;5;241m.\u001b[39mfrom_code(error_code)\n\u001b[0;32m-> 1021\u001b[0m     \u001b[38;5;28;01mraise\u001b[39;00m error_class(parsed_response, operation_name)\n\u001b[1;32m   1022\u001b[0m \u001b[38;5;28;01melse\u001b[39;00m:\n\u001b[1;32m   1023\u001b[0m     \u001b[38;5;28;01mreturn\u001b[39;00m parsed_response\n",
      "\u001b[0;31mValidationException\u001b[0m: An error occurred (ValidationException) when calling the InvokeModel operation: \"claude-3-5-sonnet-20240620\" is not supported on this API. Please use the Messages API instead."
     ]
    }
   ],
   "source": [
    "for m in models:\n",
    "      ehrm = EHRmonize(m, temperature=.1)\n",
    "\n",
    "      ehrm.config_prompting(\n",
    "            n_attempts=2,\n",
    "            agentic=False,\n",
    "            n_shots=0,\n",
    "      )\n",
    "\n",
    "      ehrm.set_task(\n",
    "            task='one_hot_drug_classification',\n",
    "            classif='antibiotic'\n",
    "      )\n",
    "\n",
    "      pred = ehrm.predict(\n",
    "            pd.DataFrame({\n",
    "            'drug': ['ativan','vancocin'],\n",
    "            'route': ['intravenous','oral']\n",
    "        })\n",
    "      )['pred']\n",
    "\n",
    "      acc = accuracy_score(\n",
    "            pd.Series([\"0\",\"1\"]),\n",
    "            pred\n",
    "      )\n",
    "\n",
    "      print(pred)\n",
    "      print(acc)\n",
    "\n"
   ]
  },
  {
   "cell_type": "code",
   "execution_count": 4,
   "metadata": {},
   "outputs": [
    {
     "name": "stdout",
     "output_type": "stream",
     "text": [
      "0    0\n",
      "1    1\n",
      "dtype: object\n",
      "1.0\n"
     ]
    }
   ],
   "source": [
    "for m in models:\n",
    "      ehrm = EHRmonize(m, temperature=.1)\n",
    "\n",
    "      ehrm.config_prompting(\n",
    "            n_attempts=2,\n",
    "            agentic=False,\n",
    "            n_shots=0,\n",
    "      )\n",
    "\n",
    "      ehrm.set_task(\n",
    "            task='custom',\n",
    "            prompt='Please respond 1 if the medication below is an antibiotic, else 0:',\n",
    "      )\n",
    "\n",
    "      pred = ehrm.predict(\n",
    "            pd.Series(['ativan','vancocin']),\n",
    "      )['pred']\n",
    "\n",
    "      acc = accuracy_score(\n",
    "            pd.Series([\"0\",\"1\"]),\n",
    "            pred\n",
    "      )\n",
    "\n",
    "      print(pred)\n",
    "      print(acc)\n",
    "\n"
   ]
  },
  {
   "cell_type": "code",
   "execution_count": 8,
   "metadata": {},
   "outputs": [
    {
     "name": "stdout",
     "output_type": "stream",
     "text": [
      "0     lorazepam\n",
      "1    vancomycin\n",
      "dtype: object\n",
      "1.0\n"
     ]
    }
   ],
   "source": [
    "for m in models:\n",
    "      ehrm = EHRmonize(m, temperature=.1)\n",
    "\n",
    "      ehrm.config_prompting(\n",
    "            n_attempts=1,\n",
    "            agentic=False,\n",
    "            n_shots=0,\n",
    "      )\n",
    "\n",
    "      ehrm.set_task(\n",
    "            task='get_generic_name',\n",
    "      )\n",
    "\n",
    "      pred = ehrm.predict(\n",
    "            pd.Series(['ativan','vancocin']),\n",
    "      )\n",
    "\n",
    "      acc = accuracy_score(\n",
    "            pd.Series(['lorazepam','vancomycin']),\n",
    "            pred\n",
    "      )\n",
    "\n",
    "      print(pred)\n",
    "      print(acc)\n",
    "\n"
   ]
  },
  {
   "cell_type": "code",
   "execution_count": 9,
   "metadata": {},
   "outputs": [
    {
     "name": "stdout",
     "output_type": "stream",
     "text": [
      "0     lorazepam\n",
      "1    vancomycin\n",
      "dtype: object\n",
      "1.0\n"
     ]
    }
   ],
   "source": [
    "for m in models:\n",
    "      ehrm = EHRmonize(m, temperature=.1)\n",
    "\n",
    "      ehrm.config_prompting(\n",
    "            n_attempts=2,\n",
    "            agentic=False,\n",
    "            n_shots=0,\n",
    "      )\n",
    "\n",
    "      ehrm.set_task(\n",
    "            task='get_generic_name',\n",
    "      )\n",
    "\n",
    "      pred = ehrm.predict(\n",
    "            pd.Series(['ativan','vancocin']),\n",
    "      )['pred']\n",
    "\n",
    "      acc = accuracy_score(\n",
    "            pd.Series(['lorazepam','vancomycin']),\n",
    "            pred\n",
    "      )\n",
    "\n",
    "      print(pred)\n",
    "      print(acc)\n",
    "\n"
   ]
  },
  {
   "cell_type": "code",
   "execution_count": 10,
   "metadata": {},
   "outputs": [
    {
     "name": "stdout",
     "output_type": "stream",
     "text": [
      "0    intravenous\n",
      "1           oral\n",
      "2          other\n",
      "dtype: object\n",
      "1.0\n"
     ]
    }
   ],
   "source": [
    "for m in models:\n",
    "      ehrm = EHRmonize(m, temperature=.1)\n",
    "\n",
    "      ehrm.config_prompting(\n",
    "            n_attempts=1,\n",
    "            agentic=False,\n",
    "            n_shots=0,\n",
    "      )\n",
    "\n",
    "      ehrm.set_task(\n",
    "            task='get_generic_route',\n",
    "            classes=['intravenous', 'oral', 'other'],\n",
    "      )\n",
    "\n",
    "      pred = ehrm.predict(\n",
    "            pd.Series(['intravenous','via mouth', 'rectal']),\n",
    "      )\n",
    "\n",
    "      acc = accuracy_score(\n",
    "            pd.Series(['intravenous','oral','other']),\n",
    "            pred\n",
    "      )\n",
    "\n",
    "      print(pred)\n",
    "      print(acc)\n",
    "\n"
   ]
  },
  {
   "cell_type": "code",
   "execution_count": null,
   "metadata": {},
   "outputs": [],
   "source": []
  },
  {
   "cell_type": "code",
   "execution_count": 4,
   "metadata": {},
   "outputs": [
    {
     "name": "stdout",
     "output_type": "stream",
     "text": [
      "0      sedative\n",
      "1    antibiotic\n",
      "dtype: object\n",
      "1.0\n"
     ]
    }
   ],
   "source": [
    "for m in models:\n",
    "      ehrm = EHRmonize(m, temperature=.1)\n",
    "\n",
    "      ehrm.config_prompting(\n",
    "            n_attempts=2,\n",
    "            agentic=False,\n",
    "            n_shots=0,\n",
    "      )\n",
    "\n",
    "      ehrm.set_task(\n",
    "            task='classify_drug',\n",
    "            classes=['antibiotic', 'sedative', 'other'],\n",
    "      )\n",
    "\n",
    "      pred = ehrm.predict(\n",
    "        pd.DataFrame({\n",
    "            'drug': ['ativan','vancocin'],\n",
    "            'route': ['intravenous','oral']\n",
    "        })\n",
    "      )\n",
    "\n",
    "      acc = ehrm.evaluate(\n",
    "            pd.Series(['sedative','antibiotic']),\n",
    "            pred\n",
    "      )\n",
    "\n",
    "      print(pred)\n",
    "      print(acc)\n",
    "\n"
   ]
  },
  {
   "cell_type": "code",
   "execution_count": 3,
   "metadata": {},
   "outputs": [
    {
     "name": "stdout",
     "output_type": "stream",
     "text": [
      "Model: meta.llama3-70b-instruct-v1:0\n",
      "Results: ['oral', 'oral', 'oral']\n",
      "Decision: oral\n",
      "Consistency: 1.00\n"
     ]
    }
   ],
   "source": [
    "possible_shots = [\n",
    "    \"An input route 'intraven' would be classified as 'intravenous'.\",\n",
    "    \"An input route 'intramuscul' would be classified as 'intramuscular'.\",\n",
    "    \"An input route 'rEcTal' would be classified as 'rectal'.\",\n",
    "    \"An input route 'oral' would be classified as 'oral'.\",\n",
    "    \"An input route 'po' would be classified as 'oral'.\",\n",
    "]\n",
    "\n",
    "for m in models:\n",
    "      ehrm = EHRmonize(m, temperature=.1)\n",
    "\n",
    "      ehrm.config(\n",
    "            n_attempts=3,\n",
    "            agentic=False,\n",
    "            n_shots=2,\n",
    "      )\n",
    "      \n",
    "      results, decision, consistency = ehrm.get_generic_route(\n",
    "            route='through the mouth',\n",
    "            classes=['intravenous', 'rectal', 'oral','other'],\n",
    "            possible_shots=possible_shots,\n",
    "          )\n",
    "\n",
    "      print(f\"Model: {m}\")\n",
    "      print(f\"Results: {results}\")\n",
    "      print(f\"Decision: {decision}\")\n",
    "      print(f\"Consistency: {consistency:.2f}\")\n",
    "    "
   ]
  },
  {
   "cell_type": "code",
   "execution_count": 4,
   "metadata": {},
   "outputs": [
    {
     "name": "stdout",
     "output_type": "stream",
     "text": [
      "Model: meta.llama3-70b-instruct-v1:0\n",
      "Results: ['lorazepam', 'lorazepam', 'lorazepam']\n",
      "Decision: lorazepam\n",
      "Consistency: 1.00\n"
     ]
    }
   ],
   "source": [
    "possible_shots = [\n",
    "    \"An input drugname 'vancocin' would be classified as 'vancomycin'.\",\n",
    "    \"An input drugname 'vancomycin' would be classified as 'vancomycin'.\",\n",
    "    \"An input drugname 'Toprol XL' would be classified as 'metroprolol'.\",\n",
    "    \"An input drugname 'Adderall' would be classified as 'amphetamine/dextroamphetamine'.\",\n",
    "    \"An input drugname 'Tylenol' would be classified as 'acetaminophen'.\",\n",
    "]\n",
    "\n",
    "for m in models:\n",
    "      ehrm = EHRmonize(m, temperature=.1)\n",
    "\n",
    "      ehrm.config(\n",
    "            n_attempts=3,\n",
    "            agentic=False,\n",
    "            n_shots=2,\n",
    "      )\n",
    "\n",
    "      results, decision, consistency = ehrm.get_generic_name(\n",
    "            drugname='ativan',\n",
    "            possible_shots=possible_shots,\n",
    "          )\n",
    "\n",
    "      print(f\"Model: {m}\")\n",
    "      print(f\"Results: {results}\")\n",
    "      print(f\"Decision: {decision}\")\n",
    "      print(f\"Consistency: {consistency:.2f}\")"
   ]
  },
  {
   "cell_type": "code",
   "execution_count": 5,
   "metadata": {},
   "outputs": [
    {
     "name": "stdout",
     "output_type": "stream",
     "text": [
      "Model: meta.llama3-70b-instruct-v1:0\n",
      "Results: ['other', 'other', 'other']\n",
      "Decision: other\n",
      "Consistency: 1.00\n"
     ]
    }
   ],
   "source": [
    "possible_shots = [\n",
    "    \"An input drugname 'vancocin' with a route 'intravenous' would be classified as 'antibiotic'.\",\n",
    "    \"An input drugname 'vancomycin' with a route 'intravenous' would be classified as 'antibiotic'.\",\n",
    "    \"An input drugname 'Toprol XL' with a route 'oral' would be classified as 'beta blocker'.\",\n",
    "    \"An input drugname 'Tylenol' with a route 'oral' would be classified as 'analgesic'.\",\n",
    "    \"An input drugname 'vasopressin' with a route 'intravenous' would be classified as 'vasopressor'.\",\n",
    "]\n",
    "\n",
    "for m in models:\n",
    "      ehrm = EHRmonize(m, temperature=.1)\n",
    "\n",
    "      ehrm.config(\n",
    "            n_attempts=3,\n",
    "            agentic=False,\n",
    "            n_shots=2,\n",
    "      )\n",
    "\n",
    "      results, decision, consistency = ehrm.classify_drug(\n",
    "            drugname='dobutamine',\n",
    "            route='intravenous',\n",
    "            classes=['antibiotic', 'anticoagulant', 'other'],\n",
    "            possible_shots=possible_shots,\n",
    "          )\n",
    "\n",
    "      print(f\"Model: {m}\")\n",
    "      print(f\"Results: {results}\")\n",
    "      print(f\"Decision: {decision}\")\n",
    "      print(f\"Consistency: {consistency:.2f}\")\n",
    "    "
   ]
  },
  {
   "cell_type": "code",
   "execution_count": null,
   "metadata": {},
   "outputs": [],
   "source": []
  }
 ],
 "metadata": {
  "kernelspec": {
   "display_name": "aiwonglab_ubuntu",
   "language": "python",
   "name": "python3"
  },
  "language_info": {
   "codemirror_mode": {
    "name": "ipython",
    "version": 3
   },
   "file_extension": ".py",
   "mimetype": "text/x-python",
   "name": "python",
   "nbconvert_exporter": "python",
   "pygments_lexer": "ipython3",
   "version": "3.12.2"
  }
 },
 "nbformat": 4,
 "nbformat_minor": 2
}
